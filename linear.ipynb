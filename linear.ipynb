{
 "cells": [
  {
   "cell_type": "code",
   "execution_count": null,
   "metadata": {},
   "outputs": [],
   "source": [
    "from pathlib import Path\n",
    "import numpy as np\n",
    "import pandas as pd\n",
    "import quantstats as qs\n",
    "import statsmodels.api as sm\n",
    "from linearmodels.asset_pricing import LinearFactorModel\n",
    "from statsmodels.regression.rolling import RollingOLS"
   ]
  },
  {
   "cell_type": "code",
   "execution_count": null,
   "metadata": {},
   "outputs": [],
   "source": [
    "def cache(func):\n",
    "    def wrapped_func(*args, **kwargs):\n",
    "        table_name = func.__name__.split(\"_\")[-1]\n",
    "        parquet_path = f\"./data/{table_name}.parquet\"\n",
    "        try:\n",
    "            table = pd.read_parquet(parquet_path)\n",
    "        except FileNotFoundError:\n",
    "            table = func(*args, **kwargs)\n",
    "            table.to_parquet(parquet_path)\n",
    "        return table\n",
    "\n",
    "    return wrapped_func\n",
    "\n",
    "def query(sql_stmt, params, wrds_username):\n",
    "    import wrds\n",
    "\n",
    "    with wrds.Connection(wrds_username=wrds_username) as db:\n",
    "        data = db.raw_sql(sql_stmt, date_cols=[\"date\"], params=params)\n",
    "    return data\n",
    "\n",
    "def get_crsp(permnos, wrds_username):\n",
    "    sql_crsp = \"\"\"\n",
    "    SELECT\n",
    "        date,\n",
    "        permno,\n",
    "        openprc AS open,\n",
    "        askhi AS high,\n",
    "        bidlo AS low,\n",
    "        prc AS close,\n",
    "        vol AS volume,\n",
    "        ret,\n",
    "        shrout\n",
    "    FROM\n",
    "        crsp.dsf\n",
    "    WHERE\n",
    "        permno IN %(permnos)s\n",
    "        AND date >= '1997-01-01'\n",
    "        AND date <= '2019-12-31'\n",
    "    ORDER BY\n",
    "        date, permno;\n",
    "    \"\"\"\n",
    "    params = {\"permnos\": permnos}\n",
    "    crsp = query(sql_crsp, params, wrds_username).astype({\"permno\":\"category\"}).convert_dtypes()\n",
    "    # Fill missing close prices of permno 80539\n",
    "    crsp.loc[crsp.permno == 80539, \"close\"] = crsp.loc[crsp.permno == 80539, \"close\"].fillna(method=\"bfill\")\n",
    "    # Fill other missing values\n",
    "    crsp = crsp.fillna({\"open\": crsp.close,\n",
    "        \"high\": crsp.close,\n",
    "        \"low\": crsp.close,\n",
    "        \"volume\": 0,\n",
    "        \"ret\": 0})\n",
    "    # Calculate market capitalization\n",
    "    crsp[\"cap\"] = crsp.close * crsp.shrout\n",
    "    # Shift market capitalization to avoid look ahead bias\n",
    "    crsp[\"cap\"] = crsp.groupby(\"permno\").cap.shift(1)\n",
    "    # Calculate market capiticalization weight\n",
    "    crsp[\"w_cap\"] = crsp.groupby(\"date\").cap.apply(lambda x: x / x.sum())\n",
    "    # Convert certain data types to float64\n",
    "    crsp = crsp.astype({\"ret\":\"float\"})\n",
    "    return crsp\n",
    "\n",
    "def get_fama_french():\n",
    "    \"\"\"\n",
    "    Get 3-factor and momentum data from Ken French data library.\n",
    "    \"\"\"\n",
    "    import pandas_datareader as web\n",
    "\n",
    "    # Transfrom from percentage to nominal value\n",
    "    factor = web.DataReader(\"F-F_Research_Data_Factors_daily\", \"famafrench\", start=\"1997-01-01\", end=\"2019-12-31\")[0]/100\n",
    "    momentum = web.DataReader(\"F-F_Momentum_Factor_daily\", \"famafrench\", start=\"1997-01-01\", end=\"2019-12-31\")[0]/100\n",
    "    # Merge into 4 factor model\n",
    "    fama_french = pd.concat([factor, momentum], axis=1)\n",
    "    fama_french = fama_french.rename(columns=lambda x: x.lower().strip().replace(\"-\", \"\")).rename_axis(index=str.lower)\n",
    "    return fama_french"
   ]
  },
  {
   "cell_type": "markdown",
   "metadata": {},
   "source": [
    "## Fama-French 4 Factors"
   ]
  },
  {
   "cell_type": "code",
   "execution_count": null,
   "metadata": {},
   "outputs": [],
   "source": [
    "path = Path(\"./data\")\n",
    "permno_path = path/\"permno_selection.csv\"\n",
    "permnos = pd.read_csv(permno_path, dtype={\"permno\":\"str\"}).squeeze().pipe(tuple)\n",
    "crsp = get_crsp(permnos, \"iewaij\")\n",
    "fama_french = get_fama_french()"
   ]
  },
  {
   "cell_type": "markdown",
   "metadata": {},
   "source": [
    "### Linear Factor Model"
   ]
  },
  {
   "cell_type": "code",
   "execution_count": null,
   "metadata": {},
   "outputs": [
    {
     "name": "stdout",
     "output_type": "stream",
     "text": [
      "                      LinearFactorModel Estimation Summary                      \n",
      "================================================================================\n",
      "No. Test Portfolios:                 50   R-squared:                      0.3259\n",
      "No. Factors:                          4   J-statistic:                    17.683\n",
      "No. Observations:                  5031   P-value                         0.9999\n",
      "Date:                  Mon, Mar 28 2022   Distribution:                 chi2(46)\n",
      "Time:                          14:14:52                                         \n",
      "Cov. Estimator:                  robust                                         \n",
      "                                                                                \n",
      "                            Risk Premia Estimates                             \n",
      "==============================================================================\n",
      "            Parameter  Std. Err.     T-stat    P-value    Lower CI    Upper CI\n",
      "------------------------------------------------------------------------------\n",
      "mktrf          0.0006     0.0002     3.1725     0.0015      0.0002      0.0009\n",
      "smb         9.693e-05     0.0002     0.5392     0.5897     -0.0003      0.0004\n",
      "hml           -0.0001     0.0002    -0.6258     0.5315     -0.0004      0.0002\n",
      "mom            0.0008     0.0005     1.7108     0.0871     -0.0001      0.0018\n",
      "==============================================================================\n",
      "\n",
      "Covariance estimator:\n",
      "HeteroskedasticCovariance\n",
      "See full_summary for complete results\n"
     ]
    }
   ],
   "source": [
    "portfolio = crsp.loc[crsp.date >= \"2000-01-01\", [\"date\", \"permno\", \"ret\"]].pivot(index=\"date\", columns=\"permno\", values=\"ret\")\n",
    "portfolio = portfolio.sub(fama_french.loc[portfolio.index, \"rf\"], axis=0)\n",
    "factor = fama_french.loc[portfolio.index, [\"mktrf\", \"smb\", \"hml\", \"mom\"]]\n",
    "mod = LinearFactorModel(portfolios=portfolio,\n",
    "                        factors=factor)\n",
    "res = mod.fit()\n",
    "print(res.summary)"
   ]
  },
  {
   "cell_type": "markdown",
   "metadata": {},
   "source": [
    "### Estimate Rolling Factor Exposure"
   ]
  },
  {
   "cell_type": "markdown",
   "metadata": {},
   "source": [
    "#### Daily Estimate"
   ]
  },
  {
   "cell_type": "code",
   "execution_count": null,
   "metadata": {},
   "outputs": [
    {
     "name": "stdout",
     "output_type": "stream",
     "text": [
      "Loading library list...\n",
      "Done\n"
     ]
    }
   ],
   "source": [
    "crsp = get_crsp(permnos, \"iewaij\")"
   ]
  },
  {
   "cell_type": "code",
   "execution_count": null,
   "metadata": {},
   "outputs": [
    {
     "data": {
      "text/plain": [
       "date      datetime64[ns]\n",
       "permno          category\n",
       "open             Float64\n",
       "high             Float64\n",
       "low              Float64\n",
       "close            Float64\n",
       "volume             Int64\n",
       "ret              float64\n",
       "shrout             Int64\n",
       "cap              Float64\n",
       "w_cap            Float64\n",
       "dtype: object"
      ]
     },
     "metadata": {},
     "output_type": "display_data"
    }
   ],
   "source": [
    "crsp.dtypes"
   ]
  },
  {
   "cell_type": "code",
   "execution_count": null,
   "metadata": {},
   "outputs": [],
   "source": [
    "portfolio = crsp.loc[crsp.date >= \"1999-01-01\", [\"date\", \"permno\", \"ret\"]].pivot(\n",
    "    index=\"date\", columns=\"permno\", values=\"ret\"\n",
    ")\n",
    "portfolio = portfolio.sub(fama_french.loc[portfolio.index, \"rf\"], axis=0)\n",
    "factor = fama_french.loc[portfolio.index, [\"mktrf\", \"smb\", \"hml\", \"mom\"]].assign(const=1)\n",
    "\n",
    "mod = RollingOLS(endog=portfolio[10874],exog=factor,window=252)"
   ]
  },
  {
   "cell_type": "code",
   "execution_count": null,
   "metadata": {},
   "outputs": [],
   "source": [
    "portfolio = crsp.loc[crsp.date >= \"1999-01-01\", [\"date\", \"permno\", \"ret\"]].pivot(\n",
    "    index=\"date\", columns=\"permno\", values=\"ret\"\n",
    ")\n",
    "portfolio = portfolio.sub(fama_french.loc[portfolio.index, \"rf\"], axis=0)\n",
    "factor = fama_french.loc[portfolio.index, [\"mktrf\", \"smb\", \"hml\", \"mom\"]].assign(\n",
    "    const=1\n",
    ")\n",
    "betas = []\n",
    "\n",
    "for permno in portfolio:\n",
    "    betas.append(RollingOLS(endog=portfolio[10874], exog=factor, window=252).fit(params_only=True).params.drop(\"const\", axis=1).assign(permno=permno))"
   ]
  },
  {
   "cell_type": "code",
   "execution_count": null,
   "metadata": {},
   "outputs": [
    {
     "data": {
      "text/html": [
       "<div>\n",
       "<style scoped>\n",
       "    .dataframe tbody tr th:only-of-type {\n",
       "        vertical-align: middle;\n",
       "    }\n",
       "\n",
       "    .dataframe tbody tr th {\n",
       "        vertical-align: top;\n",
       "    }\n",
       "\n",
       "    .dataframe thead th {\n",
       "        text-align: right;\n",
       "    }\n",
       "</style>\n",
       "<table border=\"1\" class=\"dataframe\">\n",
       "  <thead>\n",
       "    <tr style=\"text-align: right;\">\n",
       "      <th></th>\n",
       "      <th>mktrf</th>\n",
       "      <th>smb</th>\n",
       "      <th>hml</th>\n",
       "      <th>mom</th>\n",
       "      <th>permno</th>\n",
       "    </tr>\n",
       "    <tr>\n",
       "      <th>date</th>\n",
       "      <th></th>\n",
       "      <th></th>\n",
       "      <th></th>\n",
       "      <th></th>\n",
       "      <th></th>\n",
       "    </tr>\n",
       "  </thead>\n",
       "  <tbody>\n",
       "    <tr>\n",
       "      <th>1999-01-04</th>\n",
       "      <td>NaN</td>\n",
       "      <td>NaN</td>\n",
       "      <td>NaN</td>\n",
       "      <td>NaN</td>\n",
       "      <td>10874.0</td>\n",
       "    </tr>\n",
       "    <tr>\n",
       "      <th>1999-01-05</th>\n",
       "      <td>NaN</td>\n",
       "      <td>NaN</td>\n",
       "      <td>NaN</td>\n",
       "      <td>NaN</td>\n",
       "      <td>10874.0</td>\n",
       "    </tr>\n",
       "    <tr>\n",
       "      <th>1999-01-06</th>\n",
       "      <td>NaN</td>\n",
       "      <td>NaN</td>\n",
       "      <td>NaN</td>\n",
       "      <td>NaN</td>\n",
       "      <td>10874.0</td>\n",
       "    </tr>\n",
       "    <tr>\n",
       "      <th>1999-01-07</th>\n",
       "      <td>NaN</td>\n",
       "      <td>NaN</td>\n",
       "      <td>NaN</td>\n",
       "      <td>NaN</td>\n",
       "      <td>10874.0</td>\n",
       "    </tr>\n",
       "    <tr>\n",
       "      <th>1999-01-08</th>\n",
       "      <td>NaN</td>\n",
       "      <td>NaN</td>\n",
       "      <td>NaN</td>\n",
       "      <td>NaN</td>\n",
       "      <td>10874.0</td>\n",
       "    </tr>\n",
       "    <tr>\n",
       "      <th>...</th>\n",
       "      <td>...</td>\n",
       "      <td>...</td>\n",
       "      <td>...</td>\n",
       "      <td>...</td>\n",
       "      <td>...</td>\n",
       "    </tr>\n",
       "    <tr>\n",
       "      <th>2019-12-24</th>\n",
       "      <td>1.284331</td>\n",
       "      <td>0.534823</td>\n",
       "      <td>0.332856</td>\n",
       "      <td>-0.378967</td>\n",
       "      <td>10874.0</td>\n",
       "    </tr>\n",
       "    <tr>\n",
       "      <th>2019-12-26</th>\n",
       "      <td>1.301805</td>\n",
       "      <td>0.542204</td>\n",
       "      <td>0.331372</td>\n",
       "      <td>-0.373530</td>\n",
       "      <td>10874.0</td>\n",
       "    </tr>\n",
       "    <tr>\n",
       "      <th>2019-12-27</th>\n",
       "      <td>1.292380</td>\n",
       "      <td>0.558356</td>\n",
       "      <td>0.330043</td>\n",
       "      <td>-0.373617</td>\n",
       "      <td>10874.0</td>\n",
       "    </tr>\n",
       "    <tr>\n",
       "      <th>2019-12-30</th>\n",
       "      <td>1.293027</td>\n",
       "      <td>0.547177</td>\n",
       "      <td>0.318343</td>\n",
       "      <td>-0.382091</td>\n",
       "      <td>10874.0</td>\n",
       "    </tr>\n",
       "    <tr>\n",
       "      <th>2019-12-31</th>\n",
       "      <td>1.293824</td>\n",
       "      <td>0.550074</td>\n",
       "      <td>0.320425</td>\n",
       "      <td>-0.377686</td>\n",
       "      <td>10874.0</td>\n",
       "    </tr>\n",
       "  </tbody>\n",
       "</table>\n",
       "<p>5283 rows × 5 columns</p>\n",
       "</div>"
      ],
      "text/plain": [
       "               mktrf       smb       hml       mom   permno\n",
       "date                                                       \n",
       "1999-01-04       NaN       NaN       NaN       NaN  10874.0\n",
       "1999-01-05       NaN       NaN       NaN       NaN  10874.0\n",
       "1999-01-06       NaN       NaN       NaN       NaN  10874.0\n",
       "1999-01-07       NaN       NaN       NaN       NaN  10874.0\n",
       "1999-01-08       NaN       NaN       NaN       NaN  10874.0\n",
       "...              ...       ...       ...       ...      ...\n",
       "2019-12-24  1.284331  0.534823  0.332856 -0.378967  10874.0\n",
       "2019-12-26  1.301805  0.542204  0.331372 -0.373530  10874.0\n",
       "2019-12-27  1.292380  0.558356  0.330043 -0.373617  10874.0\n",
       "2019-12-30  1.293027  0.547177  0.318343 -0.382091  10874.0\n",
       "2019-12-31  1.293824  0.550074  0.320425 -0.377686  10874.0\n",
       "\n",
       "[5283 rows x 5 columns]"
      ]
     },
     "metadata": {},
     "output_type": "display_data"
    }
   ],
   "source": [
    "betas[0]"
   ]
  },
  {
   "cell_type": "code",
   "execution_count": null,
   "metadata": {},
   "outputs": [],
   "source": [
    "re=crsp.ret - fama_french.rf\n",
    "portfolio = (\n",
    "    crsp[[\"permno\"]]\n",
    "    .join(fama_french.drop(columns=[\"rf\"]))\n",
    "    .assign(re=crsp.ret - fama_french.rf, const=1)\n",
    ").set_index(\"permno\", append=True)\n",
    "\n",
    "beta = portfolio.groupby(\"permno\").apply(\n",
    "    lambda x: RollingOLS(\n",
    "        endog=x.re,\n",
    "        exog=x.drop(columns=[\"re\"]),\n",
    "        window=252\n",
    "    )\n",
    "    .fit(params_only=True)\n",
    "    .params.drop(\"const\", axis=1)\n",
    ")"
   ]
  },
  {
   "cell_type": "markdown",
   "metadata": {},
   "source": [
    "### Prediction"
   ]
  },
  {
   "cell_type": "code",
   "execution_count": null,
   "metadata": {},
   "outputs": [],
   "source": [
    "data = (\n",
    "    crsp[[\"permno\"]]\n",
    "    .assign(logret=np.log(crsp.ret - fama_french.rf + 1),\n",
    "            const=1)\n",
    "    .loc[\"2000-01-01\":\"2012-12-31\"]\n",
    "    .set_index(\"permno\", append=True)\n",
    "    .join(beta)\n",
    "    .dropna()\n",
    ")\n",
    "by = data.reset_index(\"permno\").groupby(\"permno\")\n",
    "data[\"ret_1d\"] = np.exp(data.logret) - 1\n",
    "data[\"ret_5d\"] = np.exp(by.logret.rolling(5).sum().shift(-5)) - 1\n",
    "data[\"ret_10d\"] = np.exp(by.logret.rolling(10).sum().shift(-10)) - 1\n",
    "data[\"ret_21d\"] = np.exp(by.logret.rolling(21).sum().shift(-21)) - 1"
   ]
  },
  {
   "cell_type": "markdown",
   "metadata": {},
   "source": [
    "## Industry Portfolio"
   ]
  },
  {
   "cell_type": "code",
   "execution_count": null,
   "metadata": {},
   "outputs": [],
   "source": []
  },
  {
   "cell_type": "markdown",
   "metadata": {},
   "source": [
    "## Technical Indicators"
   ]
  },
  {
   "cell_type": "code",
   "execution_count": null,
   "metadata": {},
   "outputs": [],
   "source": []
  },
  {
   "cell_type": "markdown",
   "metadata": {},
   "source": [
    "## Option Metrics"
   ]
  },
  {
   "cell_type": "code",
   "execution_count": null,
   "metadata": {},
   "outputs": [],
   "source": []
  }
 ],
 "metadata": {
  "language_info": {
   "name": "python"
  },
  "orig_nbformat": 4
 },
 "nbformat": 4,
 "nbformat_minor": 2
}
