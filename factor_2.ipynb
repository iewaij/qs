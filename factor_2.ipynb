{
 "cells": [
  {
   "cell_type": "markdown",
   "metadata": {},
   "source": [
    "# Factor "
   ]
  },
  {
   "cell_type": "code",
   "execution_count": 205,
   "metadata": {},
   "outputs": [],
   "source": [
    "from pathlib import Path\n",
    "import numpy as np\n",
    "import pandas as pd\n",
    "import quantstats as qs\n",
    "import statsmodels.api as sm\n",
    "from linearmodels.asset_pricing import LinearFactorModel\n",
    "from statsmodels.regression.rolling import RollingOLS\n",
    "\n",
    "%config InlineBackend.figure_format = \"retina\""
   ]
  },
  {
   "cell_type": "code",
   "execution_count": 206,
   "metadata": {},
   "outputs": [],
   "source": [
    "def cache(func):\n",
    "    def wrapped_func(*args, **kwargs):\n",
    "        table_name = func.__name__.split(\"_\")[-1]\n",
    "        parquet_path = f\"./data/{table_name}.parquet\"\n",
    "        try:\n",
    "            table = pd.read_parquet(parquet_path)\n",
    "        except FileNotFoundError:\n",
    "            table = func(*args, **kwargs)\n",
    "            table.to_parquet(parquet_path)\n",
    "        return table\n",
    "\n",
    "    return wrapped_func\n",
    "\n",
    "def query(sql_stmt, params, wrds_username):\n",
    "    import wrds\n",
    "\n",
    "    with wrds.Connection(wrds_username=wrds_username) as db:\n",
    "        data = db.raw_sql(sql_stmt, date_cols=[\"date\"], params=params)\n",
    "    return data\n",
    "\n",
    "def get_crsp(permnos, wrds_username):\n",
    "    sql_crsp = \"\"\"\n",
    "    SELECT\n",
    "        date,\n",
    "        permno,\n",
    "        openprc AS open,\n",
    "        askhi AS high,\n",
    "        bidlo AS low,\n",
    "        prc AS close,\n",
    "        vol AS volume,\n",
    "        ret,\n",
    "        shrout\n",
    "    FROM\n",
    "        crsp.dsf\n",
    "    WHERE\n",
    "        permno IN %(permnos)s\n",
    "        AND date >= '1994-01-01'\n",
    "        AND date <= '2019-12-31'\n",
    "    ORDER BY\n",
    "        date, permno;\n",
    "    \"\"\"\n",
    "    params = {\"permnos\": permnos}\n",
    "    crsp = query(sql_crsp, params, wrds_username)\n",
    "    # Fill missing close prices of permno 80539\n",
    "    crsp.loc[crsp.permno == 80539, \"close\"] = crsp.loc[crsp.permno == 80539, \"close\"].fillna(method=\"ffill\")\n",
    "    # Fill other missing values\n",
    "    crsp = crsp.fillna({\"open\": crsp.close,\n",
    "        \"high\": crsp.close,\n",
    "        \"low\": crsp.close,\n",
    "        \"volume\": 0,\n",
    "        \"ret\": 0})\n",
    "    # Calculate market capitalization\n",
    "    crsp[\"cap\"] = crsp.close * crsp.shrout\n",
    "    # Shift market capitalization to avoid look ahead bias\n",
    "    crsp[\"cap\"] = crsp.groupby(\"permno\").cap.shift(1)\n",
    "    # Calculate market capiticalization weight\n",
    "    crsp[\"w_cap\"] = crsp.groupby(\"date\").cap.apply(lambda x: x / x.sum())\n",
    "    # Convert certain data types to int64\n",
    "    crsp = crsp.astype({\"permno\":\"int\",\n",
    "                        \"shrout\": \"int\",\n",
    "                        \"volume\":\"int\"})\n",
    "    return crsp\n",
    "\n",
    "def get_fama_french():\n",
    "    \"\"\"\n",
    "    Get 3-factor and momentum data from Ken French data library.\n",
    "    \"\"\"\n",
    "    import pandas_datareader as web\n",
    "\n",
    "    # Transfrom from percentage to nominal value\n",
    "    factor = web.DataReader(\"F-F_Research_Data_Factors_daily\", \"famafrench\", start=\"1994-01-01\", end=\"2019-12-31\")[0]/100\n",
    "    momentum = web.DataReader(\"F-F_Momentum_Factor_daily\", \"famafrench\", start=\"1994-01-01\", end=\"2019-12-31\")[0]/100\n",
    "    # Merge into 4 factor model\n",
    "    fama_french = pd.concat([factor, momentum], axis=1)\n",
    "    fama_french = fama_french.rename(columns=lambda x: x.lower().strip().replace(\"-\", \"\")).rename_axis(index=str.lower)\n",
    "    return fama_french"
   ]
  },
  {
   "cell_type": "code",
   "execution_count": 207,
   "metadata": {},
   "outputs": [
    {
     "name": "stdout",
     "output_type": "stream",
     "text": [
      "Loading library list...\n",
      "Done\n"
     ]
    }
   ],
   "source": [
    "path = Path(\"./data\")\n",
    "permno_path = path/\"permno_selection.csv\"\n",
    "permnos = pd.read_csv(permno_path, dtype={\"permno\":\"str\"}).squeeze().pipe(tuple)\n",
    "crsp = get_crsp(permnos, \"iewaij\")\n",
    "fama_french = get_fama_french()"
   ]
  },
  {
   "cell_type": "markdown",
   "metadata": {},
   "source": [
    "## Estimate Factor Exposure"
   ]
  },
  {
   "cell_type": "code",
   "execution_count": 208,
   "metadata": {},
   "outputs": [],
   "source": [
    "portfolio = crsp.loc[crsp.date >= \"1994-01-01\", [\"date\", \"permno\", \"ret\"]].pivot(\n",
    "    index=\"date\", columns=\"permno\", values=\"ret\"\n",
    ")\n",
    "portfolio = portfolio.sub(fama_french.loc[portfolio.index, \"rf\"], axis=0)\n",
    "factor = fama_french.loc[portfolio.index, [\"mktrf\", \"smb\", \"hml\", \"mom\"]].assign(alpha=1)\n",
    "betas = []\n",
    "for permno in portfolio:\n",
    "    ret = portfolio[permno]\n",
    "    res = RollingOLS(endog=ret, exog=factor, window=756).fit(params_only=True)\n",
    "    params = res.params\n",
    "    params[\"resid\"] = ret - factor.mul(params).sum(1)\n",
    "    params[\"permno\"] = permno \n",
    "    betas.append(params)\n",
    "beta = pd.concat(betas).reset_index().dropna()"
   ]
  },
  {
   "cell_type": "markdown",
   "metadata": {},
   "source": [
    "## Estimate Price Trend"
   ]
  },
  {
   "cell_type": "code",
   "execution_count": 209,
   "metadata": {},
   "outputs": [],
   "source": [
    "ret = crsp.pivot(index=\"date\", columns=\"permno\", values=\"ret\")\n",
    "logret = np.log(ret+1)\n",
    "# 1-month cumulative return\n",
    "mom_1m = logret.rolling(21).sum()\n",
    "# 11-month cumulative returns ending 1-month before\n",
    "mom_12m = logret.shift(21).rolling(11*21).sum()\n",
    "# Cumulative return from months t-6 to t-1 minus months t-12 to t-7.\n",
    "mom_6m = logret.shift(21).rolling(5*21).sum()\n",
    "mom_12m_6m = logret.shift(6*21).rolling(5*21).sum()\n",
    "chmom = mom_6m - mom_12m_6m\n",
    "# Max daily returns from calendar month t-1\n",
    "maxret = logret.rolling(21).max()\n",
    "# Cumulative returns months t-36 to t-13\n",
    "mom_36m = logret.shift(12*21).rolling(24*21).sum()"
   ]
  },
  {
   "cell_type": "markdown",
   "metadata": {},
   "source": [
    "## Estimate Liquidity"
   ]
  },
  {
   "cell_type": "code",
   "execution_count": 210,
   "metadata": {},
   "outputs": [
    {
     "name": "stderr",
     "output_type": "stream",
     "text": [
      "/opt/homebrew/Caskroom/mambaforge/base/envs/quant/lib/python3.9/site-packages/pandas/core/internals/blocks.py:402: RuntimeWarning: invalid value encountered in log\n",
      "  result = func(self.values, **kwargs)\n"
     ]
    }
   ],
   "source": [
    "vol = crsp.pivot(index=\"date\", columns=\"permno\", values=\"volume\")\n",
    "shrout = crsp.pivot(index=\"date\", columns=\"permno\", values=\"shrout\")\n",
    "close = crsp.pivot(index=\"date\", columns=\"permno\", values=\"close\") \n",
    "# Average monthly trading volume for most recent three months divided by number of shares\n",
    "turn = vol.shift(21).mean().div(shrout)\n",
    "# Monthly std dev of daily share turnover\n",
    "turn_std = vol.div(shrout).rolling(21).std()\n",
    "# Natural log of market cap\n",
    "logcap = np.log(close) + np.log(shrout)\n",
    "# Natural log of trading volume times price per share from month t-2\n",
    "dv = vol.mul(close)\n",
    "dolvol = np.log(dv.shift(21).rolling(21).mean())\n",
    "# Average of daily (absolute return / dollar volume)\n",
    "ill = ret.abs().div(dv)"
   ]
  },
  {
   "cell_type": "markdown",
   "metadata": {},
   "source": [
    "## Estimate Risk"
   ]
  },
  {
   "cell_type": "code",
   "execution_count": 211,
   "metadata": {},
   "outputs": [],
   "source": [
    "# Standard dev of daily returns from month t-1\n",
    "retvol = ret.rolling(21).std()\n",
    "# Market beta\n",
    "mktrf = beta.pivot(index=\"date\", columns=\"permno\", values=\"mktrf\")\n",
    "# Market beta squared\n",
    "mktrf_sq = mktrf.pow(2)\n",
    "# Idiosyncratic return volatility\n",
    "idovol = beta.pivot(index=\"date\", columns=\"permno\", values=\"resid\").rolling(756).std()"
   ]
  },
  {
   "cell_type": "markdown",
   "metadata": {},
   "source": [
    "## Prepare Data"
   ]
  },
  {
   "cell_type": "code",
   "execution_count": 212,
   "metadata": {},
   "outputs": [],
   "source": [
    "def combine_factor(**kwargs):\n",
    "    factor = pd.DataFrame(\n",
    "        {\n",
    "            name: factor.resample(\"W-FRI\").last().stack()\n",
    "            for name, factor in kwargs.items()\n",
    "        }\n",
    "    )\n",
    "    factor = factor.groupby(\"date\").transform(lambda x: x.fillna(x.mean()))\n",
    "    return factor\n"
   ]
  },
  {
   "cell_type": "code",
   "execution_count": 213,
   "metadata": {},
   "outputs": [],
   "source": [
    "# Factor\n",
    "factor = combine_factor(\n",
    "    mom_1m=mom_1m,\n",
    "    mom_12m=mom_12m,\n",
    "    chmom=chmom,\n",
    "    maxret=maxret,\n",
    "    mom_36m=mom_36m,\n",
    "    turn=turn,\n",
    "    turn_std=turn_std,\n",
    "    logcap=logcap,\n",
    "    dolvol=dolvol,\n",
    "    ill=ill,\n",
    "    retvol=retvol,\n",
    "    mktrf=mktrf,\n",
    "    mktrf_sq=mktrf_sq,\n",
    "    idovol=idovol,\n",
    ")"
   ]
  },
  {
   "cell_type": "code",
   "execution_count": 214,
   "metadata": {},
   "outputs": [],
   "source": [
    "# Forward 1 week return\n",
    "ret_5d = np.exp(logret.resample(\"W-FRI\").sum().stack().shift(-1)) - 1"
   ]
  },
  {
   "cell_type": "code",
   "execution_count": 215,
   "metadata": {},
   "outputs": [],
   "source": [
    "X = factor[\"2000-01-01\":\"2012-12-31\"] \n",
    "y = ret_5d[\"2000-01-01\":\"2012-12-31\"]\n",
    "X_train = factor[\"2000-01-01\":\"2007-12-31\"]\n",
    "X_valid = factor[\"2008-01-01\":\"2012-12-31\"] \n",
    "y_train = ret_5d[\"2000-01-01\":\"2007-12-31\"]\n",
    "y_valid = ret_5d[\"2008-01-01\":\"2012-12-31\"]"
   ]
  },
  {
   "cell_type": "markdown",
   "metadata": {},
   "source": [
    "## Prediction"
   ]
  },
  {
   "cell_type": "markdown",
   "metadata": {},
   "source": [
    "### OLS"
   ]
  },
  {
   "cell_type": "code",
   "execution_count": 216,
   "metadata": {},
   "outputs": [
    {
     "data": {
      "text/html": [
       "<table class=\"simpletable\">\n",
       "<caption>OLS Regression Results</caption>\n",
       "<tr>\n",
       "  <th>Dep. Variable:</th>            <td>y</td>        <th>  R-squared (uncentered):</th>       <td>   0.017</td> \n",
       "</tr>\n",
       "<tr>\n",
       "  <th>Model:</th>                   <td>OLS</td>       <th>  Adj. R-squared (uncentered):</th>  <td>   0.016</td> \n",
       "</tr>\n",
       "<tr>\n",
       "  <th>Method:</th>             <td>Least Squares</td>  <th>  F-statistic:       </th>           <td>   41.06</td> \n",
       "</tr>\n",
       "<tr>\n",
       "  <th>Date:</th>             <td>Mon, 28 Mar 2022</td> <th>  Prob (F-statistic):</th>           <td>1.17e-112</td>\n",
       "</tr>\n",
       "<tr>\n",
       "  <th>Time:</th>                 <td>18:11:50</td>     <th>  Log-Likelihood:    </th>           <td>  48474.</td> \n",
       "</tr>\n",
       "<tr>\n",
       "  <th>No. Observations:</th>      <td> 33900</td>      <th>  AIC:               </th>          <td>-9.692e+04</td>\n",
       "</tr>\n",
       "<tr>\n",
       "  <th>Df Residuals:</th>          <td> 33886</td>      <th>  BIC:               </th>          <td>-9.680e+04</td>\n",
       "</tr>\n",
       "<tr>\n",
       "  <th>Df Model:</th>              <td>    14</td>      <th>                     </th>               <td> </td>    \n",
       "</tr>\n",
       "<tr>\n",
       "  <th>Covariance Type:</th>      <td>nonrobust</td>    <th>                     </th>               <td> </td>    \n",
       "</tr>\n",
       "</table>\n",
       "<table class=\"simpletable\">\n",
       "<tr>\n",
       "      <td></td>        <th>coef</th>     <th>std err</th>      <th>t</th>      <th>P>|t|</th>  <th>[0.025</th>    <th>0.975]</th>  \n",
       "</tr>\n",
       "<tr>\n",
       "  <th>mom_1m</th>   <td>    0.0685</td> <td>    0.003</td> <td>   21.154</td> <td> 0.000</td> <td>    0.062</td> <td>    0.075</td>\n",
       "</tr>\n",
       "<tr>\n",
       "  <th>mom_12m</th>  <td>   -0.0007</td> <td>    0.001</td> <td>   -0.745</td> <td> 0.456</td> <td>   -0.002</td> <td>    0.001</td>\n",
       "</tr>\n",
       "<tr>\n",
       "  <th>chmom</th>    <td>    0.0016</td> <td>    0.001</td> <td>    1.896</td> <td> 0.058</td> <td> -5.4e-05</td> <td>    0.003</td>\n",
       "</tr>\n",
       "<tr>\n",
       "  <th>maxret</th>   <td>   -0.1388</td> <td>    0.023</td> <td>   -5.940</td> <td> 0.000</td> <td>   -0.185</td> <td>   -0.093</td>\n",
       "</tr>\n",
       "<tr>\n",
       "  <th>mom_36m</th>  <td>   -0.0004</td> <td>    0.001</td> <td>   -0.683</td> <td> 0.495</td> <td>   -0.002</td> <td>    0.001</td>\n",
       "</tr>\n",
       "<tr>\n",
       "  <th>turn</th>     <td> 6.209e-06</td> <td> 3.11e-05</td> <td>    0.200</td> <td> 0.842</td> <td>-5.47e-05</td> <td> 6.71e-05</td>\n",
       "</tr>\n",
       "<tr>\n",
       "  <th>turn_std</th> <td> 3.991e-05</td> <td> 6.45e-05</td> <td>    0.618</td> <td> 0.536</td> <td>-8.66e-05</td> <td>    0.000</td>\n",
       "</tr>\n",
       "<tr>\n",
       "  <th>logcap</th>   <td>    0.0004</td> <td>    0.001</td> <td>    0.725</td> <td> 0.469</td> <td>   -0.001</td> <td>    0.002</td>\n",
       "</tr>\n",
       "<tr>\n",
       "  <th>dolvol</th>   <td>   -0.0004</td> <td>    0.001</td> <td>   -0.745</td> <td> 0.456</td> <td>   -0.001</td> <td>    0.001</td>\n",
       "</tr>\n",
       "<tr>\n",
       "  <th>ill</th>      <td>-1.454e+05</td> <td> 1.54e+05</td> <td>   -0.945</td> <td> 0.345</td> <td>-4.47e+05</td> <td> 1.56e+05</td>\n",
       "</tr>\n",
       "<tr>\n",
       "  <th>retvol</th>   <td>    0.3797</td> <td>    0.059</td> <td>    6.482</td> <td> 0.000</td> <td>    0.265</td> <td>    0.495</td>\n",
       "</tr>\n",
       "<tr>\n",
       "  <th>mktrf</th>    <td>    0.0017</td> <td>    0.003</td> <td>    0.684</td> <td> 0.494</td> <td>   -0.003</td> <td>    0.007</td>\n",
       "</tr>\n",
       "<tr>\n",
       "  <th>mktrf_sq</th> <td>   -0.0011</td> <td>    0.001</td> <td>   -0.864</td> <td> 0.388</td> <td>   -0.003</td> <td>    0.001</td>\n",
       "</tr>\n",
       "<tr>\n",
       "  <th>idovol</th>   <td>    0.0003</td> <td>    0.049</td> <td>    0.005</td> <td> 0.996</td> <td>   -0.095</td> <td>    0.095</td>\n",
       "</tr>\n",
       "</table>\n",
       "<table class=\"simpletable\">\n",
       "<tr>\n",
       "  <th>Omnibus:</th>       <td>10594.457</td> <th>  Durbin-Watson:     </th>  <td>   1.640</td> \n",
       "</tr>\n",
       "<tr>\n",
       "  <th>Prob(Omnibus):</th>  <td> 0.000</td>   <th>  Jarque-Bera (JB):  </th> <td>351175.828</td>\n",
       "</tr>\n",
       "<tr>\n",
       "  <th>Skew:</th>           <td> 0.861</td>   <th>  Prob(JB):          </th>  <td>    0.00</td> \n",
       "</tr>\n",
       "<tr>\n",
       "  <th>Kurtosis:</th>       <td>18.673</td>   <th>  Cond. No.          </th>  <td>1.36e+10</td> \n",
       "</tr>\n",
       "</table><br/><br/>Notes:<br/>[1] R² is computed without centering (uncentered) since the model does not contain a constant.<br/>[2] Standard Errors assume that the covariance matrix of the errors is correctly specified.<br/>[3] The smallest eigenvalue is 1.42e-13. This might indicate that there are<br/>strong multicollinearity problems or that the design matrix is singular."
      ],
      "text/plain": [
       "<class 'statsmodels.iolib.summary.Summary'>\n",
       "\"\"\"\n",
       "                                 OLS Regression Results                                \n",
       "=======================================================================================\n",
       "Dep. Variable:                      y   R-squared (uncentered):                   0.017\n",
       "Model:                            OLS   Adj. R-squared (uncentered):              0.016\n",
       "Method:                 Least Squares   F-statistic:                              41.06\n",
       "Date:                Mon, 28 Mar 2022   Prob (F-statistic):                   1.17e-112\n",
       "Time:                        18:11:50   Log-Likelihood:                          48474.\n",
       "No. Observations:               33900   AIC:                                 -9.692e+04\n",
       "Df Residuals:                   33886   BIC:                                 -9.680e+04\n",
       "Df Model:                          14                                                  \n",
       "Covariance Type:            nonrobust                                                  \n",
       "==============================================================================\n",
       "                 coef    std err          t      P>|t|      [0.025      0.975]\n",
       "------------------------------------------------------------------------------\n",
       "mom_1m         0.0685      0.003     21.154      0.000       0.062       0.075\n",
       "mom_12m       -0.0007      0.001     -0.745      0.456      -0.002       0.001\n",
       "chmom          0.0016      0.001      1.896      0.058    -5.4e-05       0.003\n",
       "maxret        -0.1388      0.023     -5.940      0.000      -0.185      -0.093\n",
       "mom_36m       -0.0004      0.001     -0.683      0.495      -0.002       0.001\n",
       "turn        6.209e-06   3.11e-05      0.200      0.842   -5.47e-05    6.71e-05\n",
       "turn_std    3.991e-05   6.45e-05      0.618      0.536   -8.66e-05       0.000\n",
       "logcap         0.0004      0.001      0.725      0.469      -0.001       0.002\n",
       "dolvol        -0.0004      0.001     -0.745      0.456      -0.001       0.001\n",
       "ill        -1.454e+05   1.54e+05     -0.945      0.345   -4.47e+05    1.56e+05\n",
       "retvol         0.3797      0.059      6.482      0.000       0.265       0.495\n",
       "mktrf          0.0017      0.003      0.684      0.494      -0.003       0.007\n",
       "mktrf_sq      -0.0011      0.001     -0.864      0.388      -0.003       0.001\n",
       "idovol         0.0003      0.049      0.005      0.996      -0.095       0.095\n",
       "==============================================================================\n",
       "Omnibus:                    10594.457   Durbin-Watson:                   1.640\n",
       "Prob(Omnibus):                  0.000   Jarque-Bera (JB):           351175.828\n",
       "Skew:                           0.861   Prob(JB):                         0.00\n",
       "Kurtosis:                      18.673   Cond. No.                     1.36e+10\n",
       "==============================================================================\n",
       "\n",
       "Notes:\n",
       "[1] R² is computed without centering (uncentered) since the model does not contain a constant.\n",
       "[2] Standard Errors assume that the covariance matrix of the errors is correctly specified.\n",
       "[3] The smallest eigenvalue is 1.42e-13. This might indicate that there are\n",
       "strong multicollinearity problems or that the design matrix is singular.\n",
       "\"\"\""
      ]
     },
     "execution_count": 216,
     "metadata": {},
     "output_type": "execute_result"
    }
   ],
   "source": [
    "# In-sample OLS\n",
    "sm.OLS(endog=y, exog=X).fit().summary()"
   ]
  }
 ],
 "metadata": {
  "interpreter": {
   "hash": "03ce9cb9443ebd8ed8bad8b9bb17b9cbf02598c3802a5b55426183e46e5fd3c1"
  },
  "kernelspec": {
   "display_name": "Python 3.9.10 ('quant')",
   "language": "python",
   "name": "python3"
  },
  "language_info": {
   "codemirror_mode": {
    "name": "ipython",
    "version": 3
   },
   "file_extension": ".py",
   "mimetype": "text/x-python",
   "name": "python",
   "nbconvert_exporter": "python",
   "pygments_lexer": "ipython3",
   "version": "3.9.10"
  },
  "orig_nbformat": 4
 },
 "nbformat": 4,
 "nbformat_minor": 2
}
