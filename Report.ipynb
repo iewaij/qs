{
 "cells": [
  {
   "cell_type": "markdown",
   "metadata": {},
   "source": [
    "\\begin{titlepage}\n",
    "\n",
    "% Photo of FS\n",
    "\\centering\n",
    "\\vspace{-40pt}\n",
    "\\includegraphics[width=0.8\\textwidth]{Frankfurt_School_Logo.jpg}\\par\n",
    "\\vspace{2.5cm}\n",
    "\n",
    "% Course\n",
    "{\\scshape\\huge Quantitative Trading\\par}\n",
    "{\\scshape\\huge and Analysis with Python \\par}\n",
    "\\vspace{2.5cm}\n",
    "\n",
    "% Title\n",
    "{\\Huge\\bfseries Report \\par}\n",
    "{\\scshape\\large Course Project \\par}\n",
    "\n",
    "\\vspace{2cm} % If signature is taken might have to add space.\n",
    "\n",
    "{\\Large Jiawei Li (8448317)\\par}\n",
    "{\\Large Sebastian Sydow (8316620)\\par}\n",
    "{\\Large Strahinja Trenkic (8441963)\\par}\n",
    "{\\Large Xiaoyi Zhou (8419669)\\par}\n",
    "\n",
    "\\vspace{0.5cm}\n",
    "\n",
    "% Date\n",
    "\\vfill\n",
    "{\\large \\today\\par}\n",
    "\\end{titlepage}\n",
    "\n",
    "\n",
    "\\newpage\n",
    "\n",
    "\\hypersetup{linkcolor=black}\n",
    "\\tableofcontents\n",
    "\n",
    "\\newpage"
   ]
  },
  {
   "cell_type": "markdown",
   "metadata": {},
   "source": [
    "# Introduction\n",
    "\n",
    "This report accompanies the Jupyter Notebook submitted for the course project in the course *Quantitative Trading and Analysis with Python* (M.Sc.) at the Frankfurt School of Finance and Management. This report includes:\n",
    "\n",
    "- Brief summary of our approach\n",
    "\n",
    "- Summary of the the final results of our strategy. "
   ]
  },
  {
   "cell_type": "markdown",
   "metadata": {},
   "source": [
    "# Summary of the Approach\n",
    "\n",
    "## Data Sources and Retrieval\n",
    "For our course project, we used different data sources (e.g. Quandl, WRDS, St. Louis FED) out of which most were downloaded within the jupyter notebook submitted alongside this report, e.g. daily returns and stock prices from WRDS (CRSP). Nevertheless, in order to run the notebook from top to bottom, one needs three additional data files:\n",
    "\n",
    "- Selected stocks for this assignment stored in `df_input_stocks`, retrieved from Canvas.\n",
    "\n",
    "- Generalized lower bounds for the expected excess simple returns (`df_glb`). This data was provided by [Grigory Vilkov](https://www.vilkov.net/index.html) and retrieved from [here](https://osf.io/2gkcw/).\n",
    "\n",
    "- Risk-neutral skewness (`df_mfis`), again provided by [Grigory Vilkov](https://www.vilkov.net/index.html) and retrieved from [here](https://osf.io/a2g3h/).\n",
    "\n",
    "## Factors Employed in our Models\n",
    "After pre-processing the data, i.e. dealing with non-values, analysis of multicollinearity and data normalization, we experimented with a variety of factors. Our final model utilized the following factors:\n",
    "\n",
    "**Skew1:** \n",
    "The SKEW defined as the difference between OTM put [delta = -10] implied volatility and ATM call [delta = 50] implied volatility from the 30-day Volatility Surface File of OptionMetrics.\n",
    "\n",
    "**Skew2:** \n",
    "The SKEW defined as the difference between OTM put [delta = -25] implied volatility and ATM call [delta = 25] implied volatility from the 30-day Volatility Surface File of OptionMetrics.\n",
    "\n",
    "**IV:**\n",
    "The average volatility [AIV] of all OTM call and put options from the 30-day Volatility Surface File of OptionMetrics. \n",
    "\n",
    "**RSI:**\n",
    "\n",
    "**4-Factor-Model:** We downloaded (daily) data about the four-factor model from the [Ken French data library](https://mba.tuck.dartmouth.edu/pages/faculty/ken.french/data_library.html) and estimated the $\\beta$-factors for the four-factor model for each stock using a 1-year rolling window of daily data (i.e. 252 [trading] days). The $\\beta$-factors were updated at the end of each month and used for the following month until the next update. The $\\beta$-factor were estimated using statsmodels [rolling ordinary least squares](https://www.statsmodels.org/dev/generated/statsmodels.regression.rolling.RollingOLS.html). \n",
    "\n",
    "**Yield Curve / Yield Difference:** We downloaded data about U.S. Treasury yield curve rates from [quandl](https://data.nasdaq.com/data/USTREASURY/YIELD-treasury-yield-curve-rates). We calculated the difference between the 10-year yield and the 1-year yield to construct a factor storing information about the Treasury yield curve (term structure). As the yield-difference is not stock specific, i.e. observable for each stock, we also calculated the $\\beta$-factor for each stock. Again, we used a 1-year rolling window of daily data (i.e. 252 [trading] days) and updated the $\\beta$-factors at the end of each month.\n",
    "\n",
    "\n",
    "## Implementation of Contraints\n",
    "\n",
    "\n",
    "## Model\n",
    "\n",
    "\n",
    "## Strategy\n",
    "\n",
    "\n"
   ]
  },
  {
   "cell_type": "markdown",
   "metadata": {},
   "source": [
    "# Final Results of our Strategy"
   ]
  }
 ],
 "metadata": {
  "kernelspec": {
   "display_name": "Python 3",
   "language": "python",
   "name": "python3"
  },
  "language_info": {
   "codemirror_mode": {
    "name": "ipython",
    "version": 3
   },
   "file_extension": ".py",
   "mimetype": "text/x-python",
   "name": "python",
   "nbconvert_exporter": "python",
   "pygments_lexer": "ipython3",
   "version": "3.8.3"
  }
 },
 "nbformat": 4,
 "nbformat_minor": 4
}
