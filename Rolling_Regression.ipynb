{
 "cells": [
  {
   "cell_type": "code",
   "execution_count": 1,
   "id": "4d17c2f6",
   "metadata": {},
   "outputs": [],
   "source": [
    "# access to different databases\n",
    "import pandas_datareader as web\n",
    "import quandl as quandl\n",
    "import wrds as wrds\n",
    "\n",
    "# storage and operations\n",
    "import pandas as pd\n",
    "import numpy as np\n",
    "import datetime\n",
    "from pathlib import Path\n",
    "from tqdm import tqdm\n",
    "import time\n",
    "from scipy.optimize import minimize\n",
    "\n",
    "# statistics and regression\n",
    "import statsmodels.api as sm\n",
    "from statsmodels.regression.rolling import RollingOLS\n",
    "from scipy.stats.mstats import winsorize\n",
    "import quantstats as qs\n",
    "from scipy.stats import norm\n",
    "\n",
    "# plotting\n",
    "import matplotlib.pyplot as plt\n",
    "import seaborn as sns\n",
    "from matplotlib.pyplot import figure\n",
    "from matplotlib.axis import Axis\n",
    "import matplotlib.dates as mdates \n",
    "%matplotlib inline\n",
    "\n",
    "\n",
    "from ta.momentum import KAMAIndicator\n",
    "from ta.momentum import PercentagePriceOscillator\n",
    "from ta.momentum import ROCIndicator\n",
    "from ta.momentum import RSIIndicator\n",
    "from ta.trend import AroonIndicator\n",
    "from ta.trend import EMAIndicator\n",
    "from ta.trend import MACD\n",
    "from pandas.tseries.offsets import BDay\n",
    "from sklearn.ensemble import RandomForestRegressor\n",
    "from sklearn.model_selection import StratifiedKFold, KFold\n",
    "from sklearn.model_selection import RandomizedSearchCV, GridSearchCV\n",
    "\n",
    "# warning\n",
    "import warnings\n",
    "warnings.filterwarnings(\"ignore\")\n",
    "\n",
    "# unzipping zip-files\n",
    "from zipfile import ZipFile"
   ]
  },
  {
   "cell_type": "code",
   "execution_count": 2,
   "id": "5aeaa870",
   "metadata": {},
   "outputs": [],
   "source": [
    "Path_stocks = Path(r'C:\\Users\\Strahinja\\Desktop\\books_Germany\\Quant\\Group_Project\\qs\\data\\permno_selection.csv')\n",
    "df_input_stocks = pd.read_csv(Path_stocks)\n",
    "Path_linker = Path(r'C:\\Users\\Strahinja\\Desktop\\books_Germany\\Quant\\Group_Project\\qs\\data\\daily_permno_secid_cusip_link.csv.zip')\n",
    "zip_file = ZipFile(Path_linker)\n",
    "df_link_permno_secid = pd.read_csv(zip_file.open('daily_permno_secid_cusip_link.csv'))\n",
    "Path1 = Path(r'C:\\Users\\Strahinja\\Desktop\\books_Germany\\Quant\\Homework_1\\data_snp500.h5')"
   ]
  },
  {
   "cell_type": "code",
   "execution_count": 3,
   "id": "f22b17c8",
   "metadata": {},
   "outputs": [],
   "source": [
    "def retrieve_stock_data(df_input, date_start, date_end, wrds_username):\n",
    "    # Download stock data\n",
    "    ## establish WRDS connection\n",
    "    db = wrds.Connection(wrds_username=wrds_username)\n",
    "    \n",
    "    # create query to load the returns, prices and shares outstanding for S&P 500 companies from 1999/01\n",
    "    sql_wrds = \"\"\"\n",
    "            select distinct date, \n",
    "                            permno,\n",
    "                            cusip, \n",
    "                            ret, \n",
    "                            abs(prc) as prc, \n",
    "                            shrout,\n",
    "                            abs(prc)*shrout/1000 as mktval\n",
    "            from crsp.dsf \n",
    "            where permno in %(permno)s and date>=%(start)s and date<=%(end)s\n",
    "            \"\"\"\n",
    "\n",
    "    # define the parameters, i.e. only those companies (permno), which were part of the S&P 500\n",
    "    # in the timeframe 2000/01 until 2020/12\n",
    "    params = {}\n",
    "    params['start'] = date_start\n",
    "    params['end'] = date_end\n",
    "    params['permno'] = tuple(df_input.permno.unique().astype(str))\n",
    "\n",
    "    # retrieve the data from wrds\n",
    "    df_stock_data = db.raw_sql(sql_wrds, params = params)\n",
    "\n",
    "    # change type of entries in the columns start and ending\n",
    "    df_stock_data['date']  = pd.to_datetime(df_stock_data['date'])\n",
    "    \n",
    "    # shift market_val by 1 day\n",
    "    df_stock_data.loc[:,'mktval_shifted'] = df_stock_data.groupby(['permno'])['mktval'].shift(1)\n",
    "    \n",
    "    # dropna\n",
    "    df_stock_data.dropna(inplace=True)\n",
    "    \n",
    "    # calculate weight of each stock on each day\n",
    "    ## dataframe with total market value on each day\n",
    "    df_ttl_mkcap = df_stock_data[['date', 'mktval_shifted']].groupby('date').sum().rename(columns={\"mktval_shifted\": \"ttl_mktval\"})\n",
    "    ## merge with df_stock_data\n",
    "    df_stock_data = pd.merge(df_stock_data, df_ttl_mkcap, how='left', on=['date'])\n",
    "    ## calculate weightage\n",
    "    df_stock_data['weightage_pct'] =  df_stock_data['mktval_shifted'] / df_stock_data[\"ttl_mktval\"]\n",
    "    ## drop columns\n",
    "    df_stock_data.drop(columns = {'shrout', 'mktval', 'mktval_shifted', 'ttl_mktval'}, inplace = True)\n",
    "    \n",
    "    return df_stock_data.sort_values(by=['date']).reset_index(drop=True)"
   ]
  },
  {
   "cell_type": "code",
   "execution_count": 4,
   "id": "fbb68d0f",
   "metadata": {},
   "outputs": [],
   "source": [
    "def download_ffm(date_start, date_end):\n",
    "    # start of time period \n",
    "    startdt = datetime.datetime(int(date_start[:4]),\n",
    "                                int(date_start[5:7]),\n",
    "                                int(date_start[8:]))\n",
    "    \n",
    "    # end of time period                            \n",
    "    enddt = datetime.datetime(int(date_end[:4]),\n",
    "                              int(date_end[5:7]),\n",
    "                              int(date_end[8:]))\n",
    "\n",
    "    # define which dataset are to be downloaded\n",
    "    d1 = web.DataReader('F-F_Research_Data_Factors_daily','famafrench',start=startdt, end=enddt)\n",
    "    d2 = web.DataReader('F-F_Momentum_Factor_daily','famafrench',start=startdt, end=enddt)\n",
    "\n",
    "    # key is 0 -> get returns data\n",
    "    # divide by 100 to get the returns\n",
    "    df_ff_3factor = d1[0]/100\n",
    "\n",
    "    # add momentum factor with an outer-join\n",
    "    # outer-join: keep all data -> union\n",
    "    df_ff_4factor = df_ff_3factor.join(d2[0]/100, how = 'outer')\n",
    "\n",
    "    # reset index for merge later\n",
    "    df_ff_4factor = df_ff_4factor.reset_index()\n",
    "\n",
    "    # change columns to be small letters and get rid of white-spaces\n",
    "    df_ff_4factor.columns = [z.lower().strip() for z in df_ff_4factor.columns]\n",
    "\n",
    "    # rename column\n",
    "    df_ff_4factor.rename(columns = {'mkt-rf':'mktrf'}, inplace = True)\n",
    "\n",
    "    # change order of dataframe\n",
    "    df_ff_4factor = df_ff_4factor.loc[:,['date', 'mktrf', 'smb', 'hml', 'mom', 'rf']]\n",
    "                              \n",
    "    return df_ff_4factor"
   ]
  },
  {
   "cell_type": "code",
   "execution_count": 5,
   "id": "61f0b689",
   "metadata": {},
   "outputs": [],
   "source": [
    "def calc_excess_return(df, minuend, subtrahend):\n",
    "    # calculate excess return\n",
    "    df['excess_return'] = df[minuend]-df[subtrahend]\n",
    "    return df"
   ]
  },
  {
   "cell_type": "code",
   "execution_count": 6,
   "id": "d5c9db93",
   "metadata": {},
   "outputs": [],
   "source": [
    "def data_prep(df_input, date_start, date_end, df_link, wrds_username, minuend, subtrahend):\n",
    "\n",
    "    ## retrieve data\n",
    "    df_stock_data = retrieve_stock_data(df_input=df_input_stocks, \n",
    "                                        date_start=date_start, \n",
    "                                        date_end=date_end, \n",
    "                                        wrds_username=wrds_username)\n",
    "    \n",
    "    # change type of entries in the columns date\n",
    "    df_link['date']  = pd.to_datetime(df_link['date'])\n",
    "    \n",
    "    ## merge with cusip\n",
    "    df_stock_data = pd.merge(df_stock_data, df_link.loc[:,['permno', 'date', 'secid']], how = \"left\", on = ['permno','date'])\n",
    "    \n",
    "    \n",
    "    # Download Fama-French Factors\n",
    "    df_ffm = download_ffm(date_start=date_start, date_end=date_end)\n",
    "    \n",
    "    ## merge stock data with ffm\n",
    "    # merge with ff-4-factors\n",
    "    df_stocks_ffm = pd.merge(df_stock_data, df_ffm, how='inner', on=['date'])\n",
    "    \n",
    "    # calculate excess return\n",
    "    df_stocks_ffm = calc_excess_return(df=df_stocks_ffm, minuend=minuend, subtrahend=subtrahend)\n",
    "    \n",
    "    return df_stocks_ffm"
   ]
  },
  {
   "cell_type": "code",
   "execution_count": 7,
   "id": "e8d275ec",
   "metadata": {},
   "outputs": [
    {
     "name": "stdout",
     "output_type": "stream",
     "text": [
      "Loading library list...\n",
      "Done\n"
     ]
    }
   ],
   "source": [
    "df_prepared = data_prep(df_input=df_input_stocks,\n",
    "                        date_start='1999-01-01',\n",
    "                        date_end='2020-12-31',\n",
    "                        df_link=df_link_permno_secid,\n",
    "                        wrds_username='strahinja23',\n",
    "                        minuend='ret',\n",
    "                        subtrahend='rf')"
   ]
  },
  {
   "cell_type": "code",
   "execution_count": 8,
   "id": "f09dd971",
   "metadata": {},
   "outputs": [],
   "source": [
    "def estimate_betas(df, window_size, period='daily'):\n",
    "    # identify all companies (permnos) in the dataframe\n",
    "    permnos = df.permno.unique()\n",
    "    # loop over all permnos and perform ols regression\n",
    "    for permno in tqdm(range(len(permnos))):\n",
    "        # define dataframe only with current permno\n",
    "        df_current_permno = df[df['permno'] == permnos[permno]]\n",
    "        # only perform OLS for stocks with more than 252 observations\n",
    "        if len(df_current_permno) > window_size:\n",
    "            # dependent variable\n",
    "            Y = df_current_permno['excess_return']\n",
    "            # independent variable\n",
    "            X = df_current_permno[['mktrf', 'smb', 'hml', 'mom']]\n",
    "            # define constant\n",
    "            X_constant = sm.add_constant(X)\n",
    "            # define model\n",
    "            rol_ols_model = RollingOLS(endog=Y, exog=X_constant, window=window_size)\n",
    "            # fitting\n",
    "            # print('Fitting rolling OLS model for permno #', permno, ' from', len(permnos))\n",
    "            results = rol_ols_model.fit()\n",
    "            # parameters\n",
    "            if permno == 0:\n",
    "                df_params = results.params\n",
    "            else:\n",
    "                df_params = pd.concat([df_params, results.params])\n",
    "\n",
    "    # rename columns\n",
    "    df_params.rename(columns = {'mktrf':'beta1', 'smb':'beta2', 'hml':'beta3', 'mom': 'beta4'}, inplace = True)\n",
    "    # merge with df_all by index\n",
    "    print('Merging the dataframes...')\n",
    "    df_betas = pd.merge(df, df_params, how='left', left_index=True, right_index=True, suffixes=[None, None])\n",
    "    # print df_ols\n",
    "    \n",
    "    if period == 'daily':\n",
    "        df_betas.dropna(inplace=True)\n",
    "        df_betas = df_betas.reset_index(drop=True)\n",
    "        return df_betas\n",
    "    \n",
    "    if period == 'monthly':\n",
    "        # create a temporary copy of df_ols\n",
    "        df_temp = df_betas[['permno', 'date', 'const', 'beta1', 'beta2', 'beta3', 'beta4']].copy()\n",
    "\n",
    "        # add necessary columns for group by\n",
    "        df_temp['year'] = df_temp['date'].dt.year\n",
    "        df_temp['month'] = df_temp['date'].dt.month\n",
    "        # group dataframe and select last row \n",
    "        df_temp = df_temp.groupby(['permno','year', 'month']).tail(n=1)\n",
    "        \n",
    "        # rename columns to indicate that those are the betas of the end of each month\n",
    "        df_temp.rename(columns = {'const':'const_eom', 'beta1':'beta1_eom', 'beta2':'beta2_eom', 'beta3':'beta3_eom', 'beta4':'beta4_eom'}, inplace = True)\n",
    "        # merge with df_ols\n",
    "        df_betas_monthly = pd.merge(df_betas, df_temp, how='left', on=['date', 'permno'])\n",
    "        # forward fill estimaed beta factors to assume that they stay constant for the next month until the last day\n",
    "        gb = df_betas_monthly.groupby('permno')\n",
    "        for var in [\"const_eom\", \"beta1_eom\", \"beta2_eom\", \"beta3_eom\", \"beta4_eom\"]:\n",
    "            df_betas_monthly[var] = gb[var].ffill()\n",
    "        \n",
    "        # drop daily betas\n",
    "        df_betas_monthly.drop(columns = {'const', 'beta1', 'beta2', 'beta3', 'beta4', 'year', 'month'}, inplace = True)\n",
    "\n",
    "        # drop nas\n",
    "        df_betas_monthly.dropna(inplace=True)\n",
    "\n",
    "        # reset index of df\n",
    "        df_betas_monthly = df_betas_monthly.reset_index(drop=True)\n",
    "        \n",
    "        return df_betas_monthly"
   ]
  },
  {
   "cell_type": "code",
   "execution_count": 9,
   "id": "36bf73ed",
   "metadata": {},
   "outputs": [
    {
     "name": "stderr",
     "output_type": "stream",
     "text": [
      "100%|██████████| 50/50 [00:37<00:00,  1.32it/s]\n"
     ]
    },
    {
     "name": "stdout",
     "output_type": "stream",
     "text": [
      "Merging the dataframes...\n"
     ]
    }
   ],
   "source": [
    "df_betas = estimate_betas(df=df_prepared, window_size=252, period='monthly')"
   ]
  },
  {
   "cell_type": "code",
   "execution_count": 10,
   "id": "3b3c97ce",
   "metadata": {},
   "outputs": [],
   "source": [
    "df_features = pd.read_hdf(Path1,key='Homework2')\n",
    "df_features = df_features[['date','permno','iv','skew1','skew2','vrp']]\n",
    "df_betas = df_betas.merge(df_features,how='left',on=['date','permno'])\n",
    "df_betas.loc[:,'date'] = pd.to_datetime(df_betas.loc[:,'date'])"
   ]
  },
  {
   "cell_type": "markdown",
   "id": "9a846c53",
   "metadata": {},
   "source": [
    "## Code for Normalization and Rolling Window regression"
   ]
  },
  {
   "cell_type": "code",
   "execution_count": 11,
   "id": "55f5ce3b",
   "metadata": {},
   "outputs": [],
   "source": [
    "def train_test_split_sorted(df,date_of_split, dates):   \n",
    "    \n",
    "    date_of_split = pd.to_datetime(date_of_split)\n",
    "    X_train = df[(df[\"date\"] <= date_of_split) & (df['date'] > pd.datetime(1999, 12, 31))]\n",
    "    X_test = df[(df[\"date\"] > date_of_split) & (df['date'] < pd.datetime(2020, 1, 1))]\n",
    "    \n",
    "    X_train = X_train.sort_values(by=['date','permno'])\n",
    "    X_test = X_test.sort_values(by=['date','permno'])\n",
    "\n",
    "    return X_train,X_test"
   ]
  },
  {
   "cell_type": "code",
   "execution_count": 12,
   "id": "089f1a1f",
   "metadata": {},
   "outputs": [],
   "source": [
    "train,test = train_test_split_sorted(df_betas,pd.datetime(2012, 12, 31),df_betas.date)"
   ]
  },
  {
   "cell_type": "code",
   "execution_count": 13,
   "id": "2e0bab0b",
   "metadata": {},
   "outputs": [],
   "source": [
    "def technicals_rock(df_a):\n",
    "    \n",
    "    KAMA = KAMAIndicator(close = df_a[\"prc\"],window = 10,pow1 = 2, pow2 = 30)\n",
    "    PPO = PercentagePriceOscillator(close = df_a[\"prc\"],window_slow = 26, window_fast = 12, window_sign = 9)\n",
    "    ROCI = ROCIndicator(close=df_a[\"prc\"],window=12)\n",
    "    RSI = RSIIndicator(close=df_a[\"prc\"],window = 14)\n",
    "    EMA14 = EMAIndicator(close = df_a[\"prc\"],window = 14)\n",
    "    EMA25 = EMAIndicator(close = df_a[\"prc\"],window = 25)\n",
    "    MACD_ind = MACD(close = df_a[\"prc\"],window_slow = 26,window_fast = 12,window_sign=9)\n",
    "    Aroon = AroonIndicator(close = df_a[\"prc\"],window = 25)\n",
    "    \n",
    "    df_a = df_a.assign(    \n",
    "    KAMA = KAMA.kama(),\n",
    "    PPO = PPO.ppo_signal(),\n",
    "    ROCI = ROCI.roc(),\n",
    "    RSI = RSI.rsi(),\n",
    "    EMA14 = EMA14.ema_indicator(),\n",
    "    EMA25 = EMA25.ema_indicator(),\n",
    "    MACD = MACD_ind.macd_signal(),\n",
    "    AroonInd = Aroon.aroon_indicator()\n",
    "    )\n",
    "    \n",
    "    return df_a"
   ]
  },
  {
   "cell_type": "code",
   "execution_count": 14,
   "id": "ac1f7865",
   "metadata": {},
   "outputs": [],
   "source": [
    "def process(df,columns):\n",
    "    df_scaled = df.copy()\n",
    "\n",
    "    df_scaled = df_scaled.fillna(method='ffill',limit=30,inplace=False)\n",
    "    df_scaled = df_scaled.dropna()\n",
    "    \n",
    "    for column in columns:\n",
    "        df_scaled[column] = (df_scaled[column] - df_scaled[column].mean())  / df_scaled[column].std()\n",
    "        df_scaled.loc[:,column] = winsorize(df_scaled.loc[:,column], limits=0.03).data\n",
    "                                                                     \n",
    "    df_scaled.loc[:,'fret1d'] = df_scaled.groupby(['permno'])['ret'].shift(-1)\n",
    "    \n",
    "    df_scaled = df_scaled.dropna()\n",
    "    \n",
    "    return df_scaled"
   ]
  },
  {
   "cell_type": "code",
   "execution_count": 15,
   "id": "f8ca74bc",
   "metadata": {},
   "outputs": [],
   "source": [
    "columns2norm = ['skew1', 'skew2', 'iv','vrp','KAMA','PPO','RSI']\n",
    "\n",
    "train = process(technicals_rock(train),columns2norm)\n",
    "test = process(technicals_rock(test),columns2norm)"
   ]
  },
  {
   "cell_type": "code",
   "execution_count": 16,
   "id": "b459e59d",
   "metadata": {},
   "outputs": [
    {
     "data": {
      "image/png": "[encoded data removed]",
      "text/plain": [
       "<Figure size 1332x900 with 9 Axes>"
      ]
     },
     "metadata": {
      "needs_background": "light"
     },
     "output_type": "display_data"
    }
   ],
   "source": [
    "cols = ['skew1', 'skew2', 'iv','vrp','KAMA','PPO','RSI' ]#,'AroonInd']\n",
    "fig, axs = plt.subplots(3,3)\n",
    "fig.set_size_inches(18.5, 12.5, forward=True)\n",
    "fig.suptitle('Distribution of Variables', fontsize=18)\n",
    "\n",
    "for i,el in enumerate(cols):\n",
    "    a = train.hist(el, ax=axs.flatten()[i],bins=100)\n"
   ]
  },
  {
   "cell_type": "code",
   "execution_count": 17,
   "id": "8ec565ce",
   "metadata": {},
   "outputs": [],
   "source": [
    "def Rolling_Forest(data,predictors,target,window,params):\n",
    "\n",
    "# First we form the window \n",
    "    start_window = data.date.min()\n",
    "    end_window = data.date.min() + BDay(window)\n",
    "    pred_date = end_window + BDay(1)\n",
    "\n",
    "#Auxiliary placeholders and reg. constant\n",
    "    data['constant'] = 1.0\n",
    "    data = data.sort_values(by=['date','permno'])\n",
    "    predictions_df = pd.DataFrame(index=[pred_date], columns=np.sort(data.permno.unique()))\n",
    "  #  scores = []\n",
    "    missing_dates = []\n",
    "\n",
    "# The train / predict loop\n",
    "    while pred_date <= data.date.max():\n",
    "        try:\n",
    "            mask = ((data['date'] >= start_window) & (data['date'] <= end_window))\n",
    "            train_window = data[mask].set_index('permno')\n",
    "            linreg = RandomForestRegressor(**params)\n",
    "            fit_ = linreg.fit(train_window[predictors],train_window[target])\n",
    "            predi_df = data[data['date']== pred_date].loc[:,predictors+['permno']].set_index('permno')\n",
    "            predi = fit_.predict(predi_df)\n",
    "            one_predi = (pd.DataFrame(data = predi, index=predi_df.index,columns=[pred_date])).T\n",
    "            predictions_df = pd.concat([predictions_df,one_predi], axis=0, ignore_index=False)\n",
    "          #  score_r2 = linreg.score(train[predictors], train[target])\n",
    "          #  scores.append(score_r2)\n",
    "        except:\n",
    "            missing_dates.append(pred_date)\n",
    "# Update window position        \n",
    "        start_window = start_window + BDay(1)\n",
    "        end_window = start_window + BDay(window)\n",
    "        pred_date = end_window + BDay(1)\n",
    "# Real returns we will need\n",
    "\n",
    "    real_returns = data.pivot(index='date', columns='permno', values='fret1d')\n",
    "   # r2_average = np.mean(scores)\n",
    "    \n",
    "    return real_returns, predictions_df[1:] , missing_dates #, r2_average"
   ]
  },
  {
   "cell_type": "code",
   "execution_count": 18,
   "id": "f1b395de",
   "metadata": {},
   "outputs": [],
   "source": [
    "def timer(start_time=None):\n",
    "    if not start_time:\n",
    "        start_time = datetime.datetime.now()\n",
    "        return start_time\n",
    "    elif start_time:\n",
    "        thour, temp_sec = divmod((datetime.datetime.now() - start_time).total_seconds(), 3600)\n",
    "        tmin, tsec = divmod(temp_sec, 60)\n",
    "        print('\\n Time taken: %i hours %i minutes and %s seconds.' % (thour, tmin, round(tsec, 2)))"
   ]
  },
  {
   "cell_type": "code",
   "execution_count": 19,
   "id": "fe41c657",
   "metadata": {},
   "outputs": [
    {
     "name": "stdout",
     "output_type": "stream",
     "text": [
      "Fitting 5 folds for each of 5 candidates, totalling 25 fits\n"
     ]
    },
    {
     "name": "stderr",
     "output_type": "stream",
     "text": [
      "[Parallel(n_jobs=4)]: Using backend LokyBackend with 4 concurrent workers.\n",
      "[Parallel(n_jobs=4)]: Done  25 out of  25 | elapsed:   23.5s finished\n"
     ]
    },
    {
     "name": "stdout",
     "output_type": "stream",
     "text": [
      "\n",
      " Time taken: 0 hours 0 minutes and 28.93 seconds.\n"
     ]
    }
   ],
   "source": [
    "params = {\n",
    "        'n_estimators': [10, 20, 30],\n",
    "        'max_features': ['sqrt','auto','log2'],\n",
    "        'max_depth': [3, 4, 5],\n",
    "        'min_samples_leaf':[1,2,3,4],\n",
    "        'min_samples_split':[2,3,4,5]\n",
    "        }\n",
    "\n",
    "regressors = ['skew1', 'skew2', 'iv','vrp']\n",
    "target = ['fret1d']\n",
    "\n",
    "\n",
    "forest = RandomForestRegressor()\n",
    "\n",
    "folds = 3\n",
    "param_comb = 5\n",
    "\n",
    "random_search = RandomizedSearchCV(forest, param_distributions=params, n_iter=param_comb, scoring='r2', \n",
    "                                   n_jobs=4, cv=KFold(5), verbose=3, random_state=1001 )\n",
    "                                                #KFold is not shuffled !\n",
    "\n",
    "# Here we go \n",
    "start_time = timer(None) # timing starts from this point for \"start_time\" variable\n",
    "random_search.fit(train[regressors], train[target])\n",
    "timer(start_time) # timing ends here for \"start_time\" variable"
   ]
  },
  {
   "cell_type": "code",
   "execution_count": 20,
   "id": "0383e162",
   "metadata": {},
   "outputs": [
    {
     "name": "stdout",
     "output_type": "stream",
     "text": [
      "\n",
      " Best estimator:\n",
      "RandomForestRegressor(max_depth=3, min_samples_leaf=4, min_samples_split=4,\n",
      "                      n_estimators=30)\n",
      "\n",
      " Best normalized gini score for 3-fold search with 5 parameter combinations:\n",
      "-1.0007060496298856\n",
      "\n",
      " Best hyperparameters:\n",
      "{'n_estimators': 30, 'min_samples_split': 4, 'min_samples_leaf': 4, 'max_features': 'auto', 'max_depth': 3}\n"
     ]
    }
   ],
   "source": [
    "print('\\n Best estimator:')\n",
    "print(random_search.best_estimator_)\n",
    "print('\\n Best normalized gini score for %d-fold search with %d parameter combinations:' % (folds, param_comb))\n",
    "print(random_search.best_score_ * 2 - 1)\n",
    "print('\\n Best hyperparameters:')\n",
    "print(random_search.best_params_)"
   ]
  },
  {
   "cell_type": "code",
   "execution_count": 21,
   "id": "3d8bfafd",
   "metadata": {},
   "outputs": [],
   "source": [
    "params_forest = {\n",
    "    \"n_estimators\": 30,\n",
    "    'max_features':'auto', \n",
    "    'max_depth':3,\n",
    "    'min_samples_leaf':4,\n",
    "    'min_samples_split':4,\n",
    "    'random_state':1001,\n",
    "    }\n",
    "\n",
    "real_returns, expected_returns,missing_dates = Rolling_Forest(train,regressors,target,21,params_forest)"
   ]
  },
  {
   "cell_type": "markdown",
   "id": "8888cedd",
   "metadata": {},
   "source": [
    "## Backtest"
   ]
  },
  {
   "cell_type": "code",
   "execution_count": 22,
   "id": "1c9ab835",
   "metadata": {},
   "outputs": [],
   "source": [
    "def prepare_returns(real, expected, days_to_test):\n",
    "\n",
    "\n",
    "    real = real.loc[np.logical_and(real.index >= days_to_test - pd.Timedelta(days=252*5 + 1), real.index < days_to_test), :]\n",
    "    expected = expected.loc[np.logical_and(expected.index >= days_to_test - pd.Timedelta(days=252*5 + 1), expected.index < days_to_test), :]   \n",
    "    \n",
    "    real = real.fillna(0.0)\n",
    "    expected = expected.fillna(0.0)\n",
    "    \n",
    "    return real, expected"
   ]
  },
  {
   "cell_type": "code",
   "execution_count": 23,
   "id": "2c94411a",
   "metadata": {},
   "outputs": [],
   "source": [
    "ret, expret = prepare_returns(real_returns,expected_returns,pd.datetime(2012, 12, 28))"
   ]
  },
  {
   "cell_type": "code",
   "execution_count": 24,
   "id": "fbdc3429",
   "metadata": {},
   "outputs": [],
   "source": [
    "def MSR(wvec,*args):\n",
    "     cov = args[0]\n",
    "     mu  = args[1]  # Max Sharp Ratio\n",
    "     sr = mu@wvec/(wvec@cov@wvec)\n",
    "     return -sr / 10000"
   ]
  },
  {
   "cell_type": "code",
   "execution_count": 25,
   "id": "c29773b7",
   "metadata": {},
   "outputs": [],
   "source": [
    "def Benchmark_Drawdown_Rolling(df,ret,d,lookback):\n",
    "    \n",
    "    d = pd.Timestamp(d)\n",
    "    start = d - BDay(lookback)\n",
    "    \n",
    "    means = ret.loc[start:d,:].mean().values\n",
    "    cov_var = ret.loc[start:d,:].cov().values\n",
    "    \n",
    "    weights_bench = df[(df['date']>= start) & (df['date'] < d)]\n",
    "    weights_bench = weights_bench[['permno','weightage_pct']]\n",
    "    weights_bench = weights_bench.sort_values(by='permno').set_index(['permno'])\n",
    "    weights_bench = np.array(weights_bench)\n",
    "    \n",
    "    \n",
    "    \n",
    "    drawdown_on_window_normal = np.array(norm.pdf(\n",
    "        0.01,\n",
    "        loc = means.dot(weights_bench),\n",
    "        scale = np.sqrt(np.array(w.T)@cov_var@np.array(w))    \n",
    "    ))\n",
    "    \n",
    "    return means,cov_var , drawdown_on_window_normal\n",
    "    "
   ]
  },
  {
   "cell_type": "code",
   "execution_count": 26,
   "id": "ab31f25a",
   "metadata": {},
   "outputs": [],
   "source": [
    "def configure_inputs_for_optimisation(df, ret, expret, d, limit,lookback):\n",
    "\n",
    "    cov = ret.cov().values\n",
    "    mu  = expret.iloc[-1].values\n",
    "    \n",
    "    if np.sum(mu > 0) == 0:\n",
    "        mu -= mu.mean()\n",
    "    \n",
    " # ----- Bounds on Weights Based on Benchmark on day d  ---- #\n",
    "    bounds = [ [] for _ in range(len(ret.columns)) ] # Empty placeholder for the 50 lower and upper bounds per day\n",
    "    for en,i in enumerate(ret.columns, start=0): # \n",
    "        \n",
    "        lower_bound = 0.9*float(df.loc[df['date']==d][df['permno']== i].weightage_pct.values)\n",
    "        higher_bound = 1.1*float(df.loc[df['date']==d][df['permno']== i].weightage_pct.values)\n",
    "        bounds[en].extend((lower_bound,higher_bound))\n",
    "              \n",
    " # ----- Constraints on Factor Exposure: ---- #\n",
    "    cons = []\n",
    "    fact = pd.DataFrame(columns=regressors+['permno'] )\n",
    "    fact.permno = ret.columns.tolist()\n",
    "    fact.set_index('permno', inplace=True)\n",
    "    fact = fact.fillna(0.0)\n",
    "    \n",
    "    for stock in fact.index:\n",
    "        for fct in fact.columns:\n",
    "            flt = np.logical_and(df['date'] == d, df['permno'] == stock)\n",
    "            if flt.any():\n",
    "                fact.loc[stock, fct] = train.loc[flt, fct].values[0]\n",
    "    \n",
    "    B = fact.T\n",
    "    \n",
    "    cons.append({'type': 'ineq', 'fun' : lambda wvec: limit - B@wvec})\n",
    "    cons.append({'type': 'ineq', 'fun' : lambda wvec: B@wvec + limit}) \n",
    " \n",
    " # ----- Constraints on Weight Sum (long portfolio): ---- #\n",
    "\n",
    "    cons.append({'type': 'eq', 'fun' : lambda wvec: wvec.sum()-1})\n",
    "\n",
    "#  # ----- Constraints on Drawdown: ---- #\n",
    "#     if (pd.Timestamp(d)- BDay(lookback)) in ret.index :\n",
    "#                                  means, cov_var, bench_dd = Benchmark_Drawdown_Rolling(df,ret,d,lookback=21)\n",
    "#                                  qs_dd = np.array(norm.pdf(0.01,loc = means@wvec, scale = np.sqrt(np.array(wvec.T)@cov_var@np.array(wvec))))\n",
    "#                                  cons.append({'type': 'ineq', 'fun' : lambda wvec: (qs_dd - bench_dd +0.01)})                                                                  \n",
    "                                        \n",
    "                                 \n",
    "    return cov, mu, cons, bounds"
   ]
  },
  {
   "cell_type": "code",
   "execution_count": 27,
   "id": "a9dbec48",
   "metadata": {},
   "outputs": [],
   "source": [
    "dtall = pd.DataFrame(index = ret.index, data = ret.index, columns = ['dates']) #\n",
    "dt_m = dtall.groupby(pd.Grouper(freq='B')).last() # We can rebalane daily for final solution should be better results\n",
    "dates_rebal = dt_m.index.values                   # But less realistic (daily trading)"
   ]
  },
  {
   "cell_type": "markdown",
   "id": "cd9a848a",
   "metadata": {},
   "source": [
    "## Sanity Check on Weight Bounds"
   ]
  },
  {
   "cell_type": "code",
   "execution_count": 28,
   "id": "8591b88d",
   "metadata": {},
   "outputs": [],
   "source": [
    "bounds = [ [] for _ in range(len(ret.columns)) ] # Empty placeholder for the 50 lower and upper bounds per day\n",
    "d = dates_rebal[0]\n",
    "for en,i in enumerate(ret.columns, start=0): # \n",
    "\n",
    "    lower_bound = 0.9*float(train.loc[train['date']==d][train['permno']== i].weightage_pct.values)\n",
    "    higher_bound = 1.1*float(train.loc[train['date']==d][train['permno']== i].weightage_pct.values)\n",
    "    bounds[en].extend((lower_bound,higher_bound))"
   ]
  },
  {
   "cell_type": "code",
   "execution_count": 29,
   "id": "0233ce43",
   "metadata": {},
   "outputs": [
    {
     "data": {
      "text/plain": [
       "[0.01578782064486043, 0.019296225232607194]"
      ]
     },
     "execution_count": 29,
     "metadata": {},
     "output_type": "execute_result"
    }
   ],
   "source": [
    "bounds[11] # Alles gut ! "
   ]
  },
  {
   "cell_type": "code",
   "execution_count": 30,
   "id": "82535882",
   "metadata": {},
   "outputs": [
    {
     "data": {
      "text/plain": [
       "array([0.01754202])"
      ]
     },
     "execution_count": 30,
     "metadata": {},
     "output_type": "execute_result"
    }
   ],
   "source": [
    "train.loc[train['date']==dates_rebal[0]][train['permno']== ret.columns[11]].weightage_pct.values"
   ]
  },
  {
   "cell_type": "markdown",
   "id": "dc4a35bc",
   "metadata": {},
   "source": [
    "## Sanity Check on Factor Exposure"
   ]
  },
  {
   "cell_type": "code",
   "execution_count": 31,
   "id": "7912c1dd",
   "metadata": {},
   "outputs": [],
   "source": [
    "fact = pd.DataFrame(columns=regressors+['permno'] )\n",
    "fact.permno = ret.columns.tolist()\n",
    "fact.set_index('permno', inplace=True)\n",
    "fact = fact.fillna(0.0)"
   ]
  },
  {
   "cell_type": "code",
   "execution_count": 32,
   "id": "a599f9d0",
   "metadata": {},
   "outputs": [],
   "source": [
    "for stock in fact.index:\n",
    "    for fct in fact.columns:\n",
    "        flt = np.logical_and(train['date'] == dates_rebal[0], train['permno'] == stock)\n",
    "        if flt.any():\n",
    "            fact.loc[stock, fct] = train.loc[flt, fct].values[0]"
   ]
  },
  {
   "cell_type": "code",
   "execution_count": 33,
   "id": "66b2227f",
   "metadata": {},
   "outputs": [],
   "source": [
    "#fact"
   ]
  },
  {
   "cell_type": "markdown",
   "id": "db8d337e",
   "metadata": {},
   "source": [
    "## Run the whole loop on Weekly rebalance"
   ]
  },
  {
   "cell_type": "code",
   "execution_count": 34,
   "id": "a5011cab",
   "metadata": {},
   "outputs": [],
   "source": [
    "dtall = pd.DataFrame(index = ret.index, data = ret.index, columns = ['dates']) #\n",
    "dt_m = dtall.groupby(pd.Grouper(freq='W-FRI')).last() # We can rebalane daily for final solution should be better results\n",
    "dates_rebal = dt_m.index.values                   # But less realistic (daily trading)"
   ]
  },
  {
   "cell_type": "code",
   "execution_count": 35,
   "id": "7e374411",
   "metadata": {},
   "outputs": [
    {
     "name": "stdout",
     "output_type": "stream",
     "text": [
      "         starting_point\n",
      "permno                 \n",
      "53613.0            0.02\n",
      "56274.0            0.02\n",
      "61241.0            0.02\n",
      "64936.0            0.02\n",
      "69032.0            0.02\n"
     ]
    }
   ],
   "source": [
    "names = ret.columns\n",
    "ptf = {} \n",
    "\n",
    "# Initiate a dictionary of placeholders for the 3 strategies\n",
    "ptf['msr_w_cons'] = pd.DataFrame(data = 0.0, index = dates_rebal, columns = names)\n",
    "\n",
    "st_point_msr = None\n",
    "st_point_mvp = None\n",
    "\n",
    "st_point_msr_all_names = test[['permno']].drop_duplicates()\n",
    "st_point_msr_all_names.insert(1, 'starting_point', 1.0/st_point_msr_all_names.shape[0])\n",
    "# Start from 1/N\n",
    "st_point_msr_all_names = st_point_msr_all_names.set_index('permno')\n",
    "print(st_point_msr_all_names.head())"
   ]
  },
  {
   "cell_type": "code",
   "execution_count": 35,
   "id": "c022b7b3",
   "metadata": {},
   "outputs": [
    {
     "name": "stdout",
     "output_type": "stream",
     "text": [
      "2009-07-17T00:00:00.000000000\n",
      "MSR: Iteration limit reached\n",
      "--- 2.695479154586792 seconds ---\n",
      "2009-07-24T00:00:00.000000000\n"
     ]
    },
    {
     "name": "stderr",
     "output_type": "stream",
     "text": [
      "ERROR:root:Internal Python error in the inspect module.\n",
      "Below is the traceback from this internal error.\n",
      "\n",
      "ERROR:root:Internal Python error in the inspect module.\n",
      "Below is the traceback from this internal error.\n",
      "\n"
     ]
    },
    {
     "name": "stdout",
     "output_type": "stream",
     "text": [
      "Traceback (most recent call last):\n",
      "  File \"C:\\Users\\Strahinja\\anaconda3\\envs\\Data_analytics_project\\lib\\site-packages\\IPython\\core\\interactiveshell.py\", line 3457, in run_code\n",
      "    exec(code_obj, self.user_global_ns, self.user_ns)\n",
      "  File \"C:\\Users\\STRAHI~1\\AppData\\Local\\Temp/ipykernel_38240/2958381466.py\", line 18, in <module>\n",
      "    res = minimize(MSR,\n",
      "  File \"C:\\Users\\Strahinja\\anaconda3\\envs\\Data_analytics_project\\lib\\site-packages\\scipy\\optimize\\_minimize.py\", line 631, in minimize\n",
      "    return _minimize_slsqp(fun, x0, args, jac, bounds,\n",
      "  File \"C:\\Users\\Strahinja\\anaconda3\\envs\\Data_analytics_project\\lib\\site-packages\\scipy\\optimize\\slsqp.py\", line 438, in _minimize_slsqp\n",
      "    a = _eval_con_normals(x, cons, la, n, m, meq, mieq)\n",
      "  File \"C:\\Users\\Strahinja\\anaconda3\\envs\\Data_analytics_project\\lib\\site-packages\\scipy\\optimize\\slsqp.py\", line 497, in _eval_con_normals\n",
      "    a_ieq = vstack([con['jac'](x, *con['args'])\n",
      "  File \"C:\\Users\\Strahinja\\anaconda3\\envs\\Data_analytics_project\\lib\\site-packages\\scipy\\optimize\\slsqp.py\", line 497, in <listcomp>\n",
      "    a_ieq = vstack([con['jac'](x, *con['args'])\n",
      "  File \"C:\\Users\\Strahinja\\anaconda3\\envs\\Data_analytics_project\\lib\\site-packages\\scipy\\optimize\\slsqp.py\", line 302, in cjac\n",
      "    return approx_derivative(fun, x, method='2-point',\n",
      "  File \"C:\\Users\\Strahinja\\anaconda3\\envs\\Data_analytics_project\\lib\\site-packages\\scipy\\optimize\\_numdiff.py\", line 486, in approx_derivative\n",
      "    return _dense_difference(fun_wrapped, x0, f0, h,\n",
      "  File \"C:\\Users\\Strahinja\\anaconda3\\envs\\Data_analytics_project\\lib\\site-packages\\scipy\\optimize\\_numdiff.py\", line 557, in _dense_difference\n",
      "    df = fun(x) - f0\n",
      "  File \"C:\\Users\\Strahinja\\anaconda3\\envs\\Data_analytics_project\\lib\\site-packages\\scipy\\optimize\\_numdiff.py\", line 437, in fun_wrapped\n",
      "    f = np.atleast_1d(fun(x, *args, **kwargs))\n",
      "  File \"C:\\Users\\STRAHI~1\\AppData\\Local\\Temp/ipykernel_38240/1792595512.py\", line 32, in <lambda>\n",
      "    cons.append({'type': 'ineq', 'fun' : lambda wvec: limit - B@wvec})\n",
      "  File \"C:\\Users\\Strahinja\\anaconda3\\envs\\Data_analytics_project\\lib\\site-packages\\pandas\\core\\frame.py\", line 1492, in __matmul__\n",
      "    return self.dot(other)\n",
      "  File \"C:\\Users\\Strahinja\\anaconda3\\envs\\Data_analytics_project\\lib\\site-packages\\pandas\\core\\frame.py\", line 1468, in dot\n",
      "    result = np.dot(lvals, rvals)\n",
      "  File \"<__array_function__ internals>\", line 5, in dot\n",
      "KeyboardInterrupt\n",
      "\n",
      "During handling of the above exception, another exception occurred:\n",
      "\n",
      "Traceback (most recent call last):\n",
      "  File \"C:\\Users\\Strahinja\\anaconda3\\envs\\Data_analytics_project\\lib\\site-packages\\IPython\\core\\interactiveshell.py\", line 2077, in showtraceback\n",
      "    stb = value._render_traceback_()\n",
      "AttributeError: 'KeyboardInterrupt' object has no attribute '_render_traceback_'\n",
      "\n",
      "During handling of the above exception, another exception occurred:\n",
      "\n",
      "Traceback (most recent call last):\n",
      "  File \"C:\\Users\\Strahinja\\anaconda3\\envs\\Data_analytics_project\\lib\\site-packages\\IPython\\core\\ultratb.py\", line 1101, in get_records\n",
      "    return _fixed_getinnerframes(etb, number_of_lines_of_context, tb_offset)\n",
      "  File \"C:\\Users\\Strahinja\\anaconda3\\envs\\Data_analytics_project\\lib\\site-packages\\IPython\\core\\ultratb.py\", line 248, in wrapped\n",
      "    return f(*args, **kwargs)\n",
      "  File \"C:\\Users\\Strahinja\\anaconda3\\envs\\Data_analytics_project\\lib\\site-packages\\IPython\\core\\ultratb.py\", line 281, in _fixed_getinnerframes\n",
      "    records = fix_frame_records_filenames(inspect.getinnerframes(etb, context))\n",
      "  File \"C:\\Users\\Strahinja\\anaconda3\\envs\\Data_analytics_project\\lib\\inspect.py\", line 1503, in getinnerframes\n",
      "    frameinfo = (tb.tb_frame,) + getframeinfo(tb, context)\n",
      "  File \"C:\\Users\\Strahinja\\anaconda3\\envs\\Data_analytics_project\\lib\\inspect.py\", line 1461, in getframeinfo\n",
      "    filename = getsourcefile(frame) or getfile(frame)\n",
      "  File \"C:\\Users\\Strahinja\\anaconda3\\envs\\Data_analytics_project\\lib\\inspect.py\", line 708, in getsourcefile\n",
      "    if getattr(getmodule(object, filename), '__loader__', None) is not None:\n",
      "  File \"C:\\Users\\Strahinja\\anaconda3\\envs\\Data_analytics_project\\lib\\inspect.py\", line 754, in getmodule\n",
      "    os.path.realpath(f)] = module.__name__\n",
      "  File \"C:\\Users\\Strahinja\\anaconda3\\envs\\Data_analytics_project\\lib\\ntpath.py\", line 647, in realpath\n",
      "    path = _getfinalpathname(path)\n",
      "KeyboardInterrupt\n",
      "Traceback (most recent call last):\n",
      "  File \"C:\\Users\\Strahinja\\anaconda3\\envs\\Data_analytics_project\\lib\\site-packages\\IPython\\core\\interactiveshell.py\", line 3457, in run_code\n",
      "    exec(code_obj, self.user_global_ns, self.user_ns)\n",
      "  File \"C:\\Users\\STRAHI~1\\AppData\\Local\\Temp/ipykernel_38240/2958381466.py\", line 18, in <module>\n",
      "    res = minimize(MSR,\n",
      "  File \"C:\\Users\\Strahinja\\anaconda3\\envs\\Data_analytics_project\\lib\\site-packages\\scipy\\optimize\\_minimize.py\", line 631, in minimize\n",
      "    return _minimize_slsqp(fun, x0, args, jac, bounds,\n",
      "  File \"C:\\Users\\Strahinja\\anaconda3\\envs\\Data_analytics_project\\lib\\site-packages\\scipy\\optimize\\slsqp.py\", line 438, in _minimize_slsqp\n",
      "    a = _eval_con_normals(x, cons, la, n, m, meq, mieq)\n",
      "  File \"C:\\Users\\Strahinja\\anaconda3\\envs\\Data_analytics_project\\lib\\site-packages\\scipy\\optimize\\slsqp.py\", line 497, in _eval_con_normals\n",
      "    a_ieq = vstack([con['jac'](x, *con['args'])\n",
      "  File \"C:\\Users\\Strahinja\\anaconda3\\envs\\Data_analytics_project\\lib\\site-packages\\scipy\\optimize\\slsqp.py\", line 497, in <listcomp>\n",
      "    a_ieq = vstack([con['jac'](x, *con['args'])\n",
      "  File \"C:\\Users\\Strahinja\\anaconda3\\envs\\Data_analytics_project\\lib\\site-packages\\scipy\\optimize\\slsqp.py\", line 302, in cjac\n",
      "    return approx_derivative(fun, x, method='2-point',\n",
      "  File \"C:\\Users\\Strahinja\\anaconda3\\envs\\Data_analytics_project\\lib\\site-packages\\scipy\\optimize\\_numdiff.py\", line 486, in approx_derivative\n",
      "    return _dense_difference(fun_wrapped, x0, f0, h,\n",
      "  File \"C:\\Users\\Strahinja\\anaconda3\\envs\\Data_analytics_project\\lib\\site-packages\\scipy\\optimize\\_numdiff.py\", line 557, in _dense_difference\n",
      "    df = fun(x) - f0\n",
      "  File \"C:\\Users\\Strahinja\\anaconda3\\envs\\Data_analytics_project\\lib\\site-packages\\scipy\\optimize\\_numdiff.py\", line 437, in fun_wrapped\n",
      "    f = np.atleast_1d(fun(x, *args, **kwargs))\n",
      "  File \"C:\\Users\\STRAHI~1\\AppData\\Local\\Temp/ipykernel_38240/1792595512.py\", line 32, in <lambda>\n",
      "    cons.append({'type': 'ineq', 'fun' : lambda wvec: limit - B@wvec})\n",
      "  File \"C:\\Users\\Strahinja\\anaconda3\\envs\\Data_analytics_project\\lib\\site-packages\\pandas\\core\\frame.py\", line 1492, in __matmul__\n",
      "    return self.dot(other)\n",
      "  File \"C:\\Users\\Strahinja\\anaconda3\\envs\\Data_analytics_project\\lib\\site-packages\\pandas\\core\\frame.py\", line 1468, in dot\n",
      "    result = np.dot(lvals, rvals)\n",
      "  File \"<__array_function__ internals>\", line 5, in dot\n",
      "KeyboardInterrupt\n",
      "\n",
      "During handling of the above exception, another exception occurred:\n",
      "\n",
      "Traceback (most recent call last):\n",
      "  File \"C:\\Users\\Strahinja\\anaconda3\\envs\\Data_analytics_project\\lib\\site-packages\\IPython\\core\\interactiveshell.py\", line 2077, in showtraceback\n",
      "    stb = value._render_traceback_()\n",
      "AttributeError: 'KeyboardInterrupt' object has no attribute '_render_traceback_'\n",
      "\n",
      "During handling of the above exception, another exception occurred:\n",
      "\n",
      "Traceback (most recent call last):\n",
      "  File \"C:\\Users\\Strahinja\\anaconda3\\envs\\Data_analytics_project\\lib\\site-packages\\IPython\\core\\interactiveshell.py\", line 3377, in run_ast_nodes\n",
      "    if (await self.run_code(code, result,  async_=asy)):\n",
      "  File \"C:\\Users\\Strahinja\\anaconda3\\envs\\Data_analytics_project\\lib\\site-packages\\IPython\\core\\interactiveshell.py\", line 3474, in run_code\n",
      "    self.showtraceback(running_compiled_code=True)\n",
      "  File \"C:\\Users\\Strahinja\\anaconda3\\envs\\Data_analytics_project\\lib\\site-packages\\IPython\\core\\interactiveshell.py\", line 2079, in showtraceback\n",
      "    stb = self.InteractiveTB.structured_traceback(etype,\n",
      "  File \"C:\\Users\\Strahinja\\anaconda3\\envs\\Data_analytics_project\\lib\\site-packages\\IPython\\core\\ultratb.py\", line 1367, in structured_traceback\n",
      "    return FormattedTB.structured_traceback(\n",
      "  File \"C:\\Users\\Strahinja\\anaconda3\\envs\\Data_analytics_project\\lib\\site-packages\\IPython\\core\\ultratb.py\", line 1267, in structured_traceback\n",
      "    return VerboseTB.structured_traceback(\n",
      "  File \"C:\\Users\\Strahinja\\anaconda3\\envs\\Data_analytics_project\\lib\\site-packages\\IPython\\core\\ultratb.py\", line 1124, in structured_traceback\n",
      "    formatted_exception = self.format_exception_as_a_whole(etype, evalue, etb, number_of_lines_of_context,\n",
      "  File \"C:\\Users\\Strahinja\\anaconda3\\envs\\Data_analytics_project\\lib\\site-packages\\IPython\\core\\ultratb.py\", line 1082, in format_exception_as_a_whole\n",
      "    last_unique, recursion_repeat = find_recursion(orig_etype, evalue, records)\n",
      "  File \"C:\\Users\\Strahinja\\anaconda3\\envs\\Data_analytics_project\\lib\\site-packages\\IPython\\core\\ultratb.py\", line 382, in find_recursion\n",
      "    return len(records), 0\n",
      "TypeError: object of type 'NoneType' has no len()\n",
      "\n",
      "During handling of the above exception, another exception occurred:\n",
      "\n",
      "Traceback (most recent call last):\n",
      "  File \"C:\\Users\\Strahinja\\anaconda3\\envs\\Data_analytics_project\\lib\\site-packages\\IPython\\core\\interactiveshell.py\", line 2077, in showtraceback\n",
      "    stb = value._render_traceback_()\n",
      "AttributeError: 'TypeError' object has no attribute '_render_traceback_'\n",
      "\n",
      "During handling of the above exception, another exception occurred:\n",
      "\n",
      "Traceback (most recent call last):\n",
      "  File \"C:\\Users\\Strahinja\\anaconda3\\envs\\Data_analytics_project\\lib\\site-packages\\IPython\\core\\ultratb.py\", line 1101, in get_records\n",
      "    return _fixed_getinnerframes(etb, number_of_lines_of_context, tb_offset)\n",
      "  File \"C:\\Users\\Strahinja\\anaconda3\\envs\\Data_analytics_project\\lib\\site-packages\\IPython\\core\\ultratb.py\", line 248, in wrapped\n",
      "    return f(*args, **kwargs)\n",
      "  File \"C:\\Users\\Strahinja\\anaconda3\\envs\\Data_analytics_project\\lib\\site-packages\\IPython\\core\\ultratb.py\", line 281, in _fixed_getinnerframes\n",
      "    records = fix_frame_records_filenames(inspect.getinnerframes(etb, context))\n",
      "  File \"C:\\Users\\Strahinja\\anaconda3\\envs\\Data_analytics_project\\lib\\inspect.py\", line 1503, in getinnerframes\n",
      "    frameinfo = (tb.tb_frame,) + getframeinfo(tb, context)\n",
      "  File \"C:\\Users\\Strahinja\\anaconda3\\envs\\Data_analytics_project\\lib\\inspect.py\", line 1461, in getframeinfo\n",
      "    filename = getsourcefile(frame) or getfile(frame)\n",
      "  File \"C:\\Users\\Strahinja\\anaconda3\\envs\\Data_analytics_project\\lib\\inspect.py\", line 708, in getsourcefile\n",
      "    if getattr(getmodule(object, filename), '__loader__', None) is not None:\n",
      "  File \"C:\\Users\\Strahinja\\anaconda3\\envs\\Data_analytics_project\\lib\\inspect.py\", line 751, in getmodule\n",
      "    f = getabsfile(module)\n",
      "  File \"C:\\Users\\Strahinja\\anaconda3\\envs\\Data_analytics_project\\lib\\inspect.py\", line 720, in getabsfile\n",
      "    _filename = getsourcefile(object) or getfile(object)\n",
      "  File \"C:\\Users\\Strahinja\\anaconda3\\envs\\Data_analytics_project\\lib\\inspect.py\", line 705, in getsourcefile\n",
      "    if os.path.exists(filename):\n",
      "  File \"C:\\Users\\Strahinja\\anaconda3\\envs\\Data_analytics_project\\lib\\genericpath.py\", line 19, in exists\n",
      "    os.stat(path)\n",
      "KeyboardInterrupt\n"
     ]
    },
    {
     "ename": "TypeError",
     "evalue": "object of type 'NoneType' has no len()",
     "output_type": "error",
     "traceback": [
      "\u001b[1;31m---------------------------------------------------------------------------\u001b[0m",
      "\u001b[1;31mKeyboardInterrupt\u001b[0m                         Traceback (most recent call last)",
      "    \u001b[1;31m[... skipping hidden 1 frame]\u001b[0m\n",
      "\u001b[1;32mC:\\Users\\STRAHI~1\\AppData\\Local\\Temp/ipykernel_38240/2958381466.py\u001b[0m in \u001b[0;36m<module>\u001b[1;34m\u001b[0m\n\u001b[0;32m     17\u001b[0m     \u001b[1;31m# run optimisation, MSR\u001b[0m\u001b[1;33m\u001b[0m\u001b[1;33m\u001b[0m\u001b[1;33m\u001b[0m\u001b[0m\n\u001b[1;32m---> 18\u001b[1;33m     res = minimize(MSR,\n\u001b[0m\u001b[0;32m     19\u001b[0m                 \u001b[0mst_point_msr\u001b[0m\u001b[1;33m,\u001b[0m\u001b[1;33m\u001b[0m\u001b[1;33m\u001b[0m\u001b[0m\n",
      "\u001b[1;32m~\\anaconda3\\envs\\Data_analytics_project\\lib\\site-packages\\scipy\\optimize\\_minimize.py\u001b[0m in \u001b[0;36mminimize\u001b[1;34m(fun, x0, args, method, jac, hess, hessp, bounds, constraints, tol, callback, options)\u001b[0m\n\u001b[0;32m    630\u001b[0m     \u001b[1;32melif\u001b[0m \u001b[0mmeth\u001b[0m \u001b[1;33m==\u001b[0m \u001b[1;34m'slsqp'\u001b[0m\u001b[1;33m:\u001b[0m\u001b[1;33m\u001b[0m\u001b[1;33m\u001b[0m\u001b[0m\n\u001b[1;32m--> 631\u001b[1;33m         return _minimize_slsqp(fun, x0, args, jac, bounds,\n\u001b[0m\u001b[0;32m    632\u001b[0m                                constraints, callback=callback, **options)\n",
      "\u001b[1;32m~\\anaconda3\\envs\\Data_analytics_project\\lib\\site-packages\\scipy\\optimize\\slsqp.py\u001b[0m in \u001b[0;36m_minimize_slsqp\u001b[1;34m(func, x0, args, jac, bounds, constraints, maxiter, ftol, iprint, disp, eps, callback, finite_diff_rel_step, **unknown_options)\u001b[0m\n\u001b[0;32m    437\u001b[0m             \u001b[0mg\u001b[0m \u001b[1;33m=\u001b[0m \u001b[0mappend\u001b[0m\u001b[1;33m(\u001b[0m\u001b[0mwrapped_grad\u001b[0m\u001b[1;33m(\u001b[0m\u001b[0mx\u001b[0m\u001b[1;33m)\u001b[0m\u001b[1;33m,\u001b[0m \u001b[1;36m0.0\u001b[0m\u001b[1;33m)\u001b[0m\u001b[1;33m\u001b[0m\u001b[1;33m\u001b[0m\u001b[0m\n\u001b[1;32m--> 438\u001b[1;33m             \u001b[0ma\u001b[0m \u001b[1;33m=\u001b[0m \u001b[0m_eval_con_normals\u001b[0m\u001b[1;33m(\u001b[0m\u001b[0mx\u001b[0m\u001b[1;33m,\u001b[0m \u001b[0mcons\u001b[0m\u001b[1;33m,\u001b[0m \u001b[0mla\u001b[0m\u001b[1;33m,\u001b[0m \u001b[0mn\u001b[0m\u001b[1;33m,\u001b[0m \u001b[0mm\u001b[0m\u001b[1;33m,\u001b[0m \u001b[0mmeq\u001b[0m\u001b[1;33m,\u001b[0m \u001b[0mmieq\u001b[0m\u001b[1;33m)\u001b[0m\u001b[1;33m\u001b[0m\u001b[1;33m\u001b[0m\u001b[0m\n\u001b[0m\u001b[0;32m    439\u001b[0m \u001b[1;33m\u001b[0m\u001b[0m\n",
      "\u001b[1;32m~\\anaconda3\\envs\\Data_analytics_project\\lib\\site-packages\\scipy\\optimize\\slsqp.py\u001b[0m in \u001b[0;36m_eval_con_normals\u001b[1;34m(x, cons, la, n, m, meq, mieq)\u001b[0m\n\u001b[0;32m    496\u001b[0m     \u001b[1;32mif\u001b[0m \u001b[0mcons\u001b[0m\u001b[1;33m[\u001b[0m\u001b[1;34m'ineq'\u001b[0m\u001b[1;33m]\u001b[0m\u001b[1;33m:\u001b[0m\u001b[1;33m\u001b[0m\u001b[1;33m\u001b[0m\u001b[0m\n\u001b[1;32m--> 497\u001b[1;33m         a_ieq = vstack([con['jac'](x, *con['args'])\n\u001b[0m\u001b[0;32m    498\u001b[0m                         for con in cons['ineq']])\n",
      "\u001b[1;32m~\\anaconda3\\envs\\Data_analytics_project\\lib\\site-packages\\scipy\\optimize\\slsqp.py\u001b[0m in \u001b[0;36m<listcomp>\u001b[1;34m(.0)\u001b[0m\n\u001b[0;32m    496\u001b[0m     \u001b[1;32mif\u001b[0m \u001b[0mcons\u001b[0m\u001b[1;33m[\u001b[0m\u001b[1;34m'ineq'\u001b[0m\u001b[1;33m]\u001b[0m\u001b[1;33m:\u001b[0m\u001b[1;33m\u001b[0m\u001b[1;33m\u001b[0m\u001b[0m\n\u001b[1;32m--> 497\u001b[1;33m         a_ieq = vstack([con['jac'](x, *con['args'])\n\u001b[0m\u001b[0;32m    498\u001b[0m                         for con in cons['ineq']])\n",
      "\u001b[1;32m~\\anaconda3\\envs\\Data_analytics_project\\lib\\site-packages\\scipy\\optimize\\slsqp.py\u001b[0m in \u001b[0;36mcjac\u001b[1;34m(x, *args)\u001b[0m\n\u001b[0;32m    301\u001b[0m                     \u001b[1;32melse\u001b[0m\u001b[1;33m:\u001b[0m\u001b[1;33m\u001b[0m\u001b[1;33m\u001b[0m\u001b[0m\n\u001b[1;32m--> 302\u001b[1;33m                         return approx_derivative(fun, x, method='2-point',\n\u001b[0m\u001b[0;32m    303\u001b[0m                                                  \u001b[0mabs_step\u001b[0m\u001b[1;33m=\u001b[0m\u001b[0mepsilon\u001b[0m\u001b[1;33m,\u001b[0m \u001b[0margs\u001b[0m\u001b[1;33m=\u001b[0m\u001b[0margs\u001b[0m\u001b[1;33m,\u001b[0m\u001b[1;33m\u001b[0m\u001b[1;33m\u001b[0m\u001b[0m\n",
      "\u001b[1;32m~\\anaconda3\\envs\\Data_analytics_project\\lib\\site-packages\\scipy\\optimize\\_numdiff.py\u001b[0m in \u001b[0;36mapprox_derivative\u001b[1;34m(fun, x0, method, rel_step, abs_step, f0, bounds, sparsity, as_linear_operator, args, kwargs)\u001b[0m\n\u001b[0;32m    485\u001b[0m         \u001b[1;32mif\u001b[0m \u001b[0msparsity\u001b[0m \u001b[1;32mis\u001b[0m \u001b[1;32mNone\u001b[0m\u001b[1;33m:\u001b[0m\u001b[1;33m\u001b[0m\u001b[1;33m\u001b[0m\u001b[0m\n\u001b[1;32m--> 486\u001b[1;33m             return _dense_difference(fun_wrapped, x0, f0, h,\n\u001b[0m\u001b[0;32m    487\u001b[0m                                      use_one_sided, method)\n",
      "\u001b[1;32m~\\anaconda3\\envs\\Data_analytics_project\\lib\\site-packages\\scipy\\optimize\\_numdiff.py\u001b[0m in \u001b[0;36m_dense_difference\u001b[1;34m(fun, x0, f0, h, use_one_sided, method)\u001b[0m\n\u001b[0;32m    556\u001b[0m             \u001b[0mdx\u001b[0m \u001b[1;33m=\u001b[0m \u001b[0mx\u001b[0m\u001b[1;33m[\u001b[0m\u001b[0mi\u001b[0m\u001b[1;33m]\u001b[0m \u001b[1;33m-\u001b[0m \u001b[0mx0\u001b[0m\u001b[1;33m[\u001b[0m\u001b[0mi\u001b[0m\u001b[1;33m]\u001b[0m  \u001b[1;31m# Recompute dx as exactly representable number.\u001b[0m\u001b[1;33m\u001b[0m\u001b[1;33m\u001b[0m\u001b[0m\n\u001b[1;32m--> 557\u001b[1;33m             \u001b[0mdf\u001b[0m \u001b[1;33m=\u001b[0m \u001b[0mfun\u001b[0m\u001b[1;33m(\u001b[0m\u001b[0mx\u001b[0m\u001b[1;33m)\u001b[0m \u001b[1;33m-\u001b[0m \u001b[0mf0\u001b[0m\u001b[1;33m\u001b[0m\u001b[1;33m\u001b[0m\u001b[0m\n\u001b[0m\u001b[0;32m    558\u001b[0m         \u001b[1;32melif\u001b[0m \u001b[0mmethod\u001b[0m \u001b[1;33m==\u001b[0m \u001b[1;34m'3-point'\u001b[0m \u001b[1;32mand\u001b[0m \u001b[0muse_one_sided\u001b[0m\u001b[1;33m[\u001b[0m\u001b[0mi\u001b[0m\u001b[1;33m]\u001b[0m\u001b[1;33m:\u001b[0m\u001b[1;33m\u001b[0m\u001b[1;33m\u001b[0m\u001b[0m\n",
      "\u001b[1;32m~\\anaconda3\\envs\\Data_analytics_project\\lib\\site-packages\\scipy\\optimize\\_numdiff.py\u001b[0m in \u001b[0;36mfun_wrapped\u001b[1;34m(x)\u001b[0m\n\u001b[0;32m    436\u001b[0m     \u001b[1;32mdef\u001b[0m \u001b[0mfun_wrapped\u001b[0m\u001b[1;33m(\u001b[0m\u001b[0mx\u001b[0m\u001b[1;33m)\u001b[0m\u001b[1;33m:\u001b[0m\u001b[1;33m\u001b[0m\u001b[1;33m\u001b[0m\u001b[0m\n\u001b[1;32m--> 437\u001b[1;33m         \u001b[0mf\u001b[0m \u001b[1;33m=\u001b[0m \u001b[0mnp\u001b[0m\u001b[1;33m.\u001b[0m\u001b[0matleast_1d\u001b[0m\u001b[1;33m(\u001b[0m\u001b[0mfun\u001b[0m\u001b[1;33m(\u001b[0m\u001b[0mx\u001b[0m\u001b[1;33m,\u001b[0m \u001b[1;33m*\u001b[0m\u001b[0margs\u001b[0m\u001b[1;33m,\u001b[0m \u001b[1;33m**\u001b[0m\u001b[0mkwargs\u001b[0m\u001b[1;33m)\u001b[0m\u001b[1;33m)\u001b[0m\u001b[1;33m\u001b[0m\u001b[1;33m\u001b[0m\u001b[0m\n\u001b[0m\u001b[0;32m    438\u001b[0m         \u001b[1;32mif\u001b[0m \u001b[0mf\u001b[0m\u001b[1;33m.\u001b[0m\u001b[0mndim\u001b[0m \u001b[1;33m>\u001b[0m \u001b[1;36m1\u001b[0m\u001b[1;33m:\u001b[0m\u001b[1;33m\u001b[0m\u001b[1;33m\u001b[0m\u001b[0m\n",
      "\u001b[1;32mC:\\Users\\STRAHI~1\\AppData\\Local\\Temp/ipykernel_38240/1792595512.py\u001b[0m in \u001b[0;36m<lambda>\u001b[1;34m(wvec)\u001b[0m\n\u001b[0;32m     31\u001b[0m \u001b[1;33m\u001b[0m\u001b[0m\n\u001b[1;32m---> 32\u001b[1;33m     \u001b[0mcons\u001b[0m\u001b[1;33m.\u001b[0m\u001b[0mappend\u001b[0m\u001b[1;33m(\u001b[0m\u001b[1;33m{\u001b[0m\u001b[1;34m'type'\u001b[0m\u001b[1;33m:\u001b[0m \u001b[1;34m'ineq'\u001b[0m\u001b[1;33m,\u001b[0m \u001b[1;34m'fun'\u001b[0m \u001b[1;33m:\u001b[0m \u001b[1;32mlambda\u001b[0m \u001b[0mwvec\u001b[0m\u001b[1;33m:\u001b[0m \u001b[0mlimit\u001b[0m \u001b[1;33m-\u001b[0m \u001b[0mB\u001b[0m\u001b[1;33m@\u001b[0m\u001b[0mwvec\u001b[0m\u001b[1;33m}\u001b[0m\u001b[1;33m)\u001b[0m\u001b[1;33m\u001b[0m\u001b[1;33m\u001b[0m\u001b[0m\n\u001b[0m\u001b[0;32m     33\u001b[0m     \u001b[0mcons\u001b[0m\u001b[1;33m.\u001b[0m\u001b[0mappend\u001b[0m\u001b[1;33m(\u001b[0m\u001b[1;33m{\u001b[0m\u001b[1;34m'type'\u001b[0m\u001b[1;33m:\u001b[0m \u001b[1;34m'ineq'\u001b[0m\u001b[1;33m,\u001b[0m \u001b[1;34m'fun'\u001b[0m \u001b[1;33m:\u001b[0m \u001b[1;32mlambda\u001b[0m \u001b[0mwvec\u001b[0m\u001b[1;33m:\u001b[0m \u001b[0mB\u001b[0m\u001b[1;33m@\u001b[0m\u001b[0mwvec\u001b[0m \u001b[1;33m+\u001b[0m \u001b[0mlimit\u001b[0m\u001b[1;33m}\u001b[0m\u001b[1;33m)\u001b[0m\u001b[1;33m\u001b[0m\u001b[1;33m\u001b[0m\u001b[0m\n",
      "\u001b[1;32m~\\anaconda3\\envs\\Data_analytics_project\\lib\\site-packages\\pandas\\core\\frame.py\u001b[0m in \u001b[0;36m__matmul__\u001b[1;34m(self, other)\u001b[0m\n\u001b[0;32m   1491\u001b[0m         \"\"\"\n\u001b[1;32m-> 1492\u001b[1;33m         \u001b[1;32mreturn\u001b[0m \u001b[0mself\u001b[0m\u001b[1;33m.\u001b[0m\u001b[0mdot\u001b[0m\u001b[1;33m(\u001b[0m\u001b[0mother\u001b[0m\u001b[1;33m)\u001b[0m\u001b[1;33m\u001b[0m\u001b[1;33m\u001b[0m\u001b[0m\n\u001b[0m\u001b[0;32m   1493\u001b[0m \u001b[1;33m\u001b[0m\u001b[0m\n",
      "\u001b[1;32m~\\anaconda3\\envs\\Data_analytics_project\\lib\\site-packages\\pandas\\core\\frame.py\u001b[0m in \u001b[0;36mdot\u001b[1;34m(self, other)\u001b[0m\n\u001b[0;32m   1467\u001b[0m         \u001b[1;32melif\u001b[0m \u001b[0misinstance\u001b[0m\u001b[1;33m(\u001b[0m\u001b[0mrvals\u001b[0m\u001b[1;33m,\u001b[0m \u001b[1;33m(\u001b[0m\u001b[0mnp\u001b[0m\u001b[1;33m.\u001b[0m\u001b[0mndarray\u001b[0m\u001b[1;33m,\u001b[0m \u001b[0mIndex\u001b[0m\u001b[1;33m)\u001b[0m\u001b[1;33m)\u001b[0m\u001b[1;33m:\u001b[0m\u001b[1;33m\u001b[0m\u001b[1;33m\u001b[0m\u001b[0m\n\u001b[1;32m-> 1468\u001b[1;33m             \u001b[0mresult\u001b[0m \u001b[1;33m=\u001b[0m \u001b[0mnp\u001b[0m\u001b[1;33m.\u001b[0m\u001b[0mdot\u001b[0m\u001b[1;33m(\u001b[0m\u001b[0mlvals\u001b[0m\u001b[1;33m,\u001b[0m \u001b[0mrvals\u001b[0m\u001b[1;33m)\u001b[0m\u001b[1;33m\u001b[0m\u001b[1;33m\u001b[0m\u001b[0m\n\u001b[0m\u001b[0;32m   1469\u001b[0m             \u001b[1;32mif\u001b[0m \u001b[0mresult\u001b[0m\u001b[1;33m.\u001b[0m\u001b[0mndim\u001b[0m \u001b[1;33m==\u001b[0m \u001b[1;36m2\u001b[0m\u001b[1;33m:\u001b[0m\u001b[1;33m\u001b[0m\u001b[1;33m\u001b[0m\u001b[0m\n",
      "\u001b[1;32m<__array_function__ internals>\u001b[0m in \u001b[0;36mdot\u001b[1;34m(*args, **kwargs)\u001b[0m\n",
      "\u001b[1;31mKeyboardInterrupt\u001b[0m: ",
      "\nDuring handling of the above exception, another exception occurred:\n",
      "\u001b[1;31mAttributeError\u001b[0m                            Traceback (most recent call last)",
      "\u001b[1;32m~\\anaconda3\\envs\\Data_analytics_project\\lib\\site-packages\\IPython\\core\\interactiveshell.py\u001b[0m in \u001b[0;36mshowtraceback\u001b[1;34m(self, exc_tuple, filename, tb_offset, exception_only, running_compiled_code)\u001b[0m\n\u001b[0;32m   2076\u001b[0m                         \u001b[1;31m# in the engines. This should return a list of strings.\u001b[0m\u001b[1;33m\u001b[0m\u001b[1;33m\u001b[0m\u001b[1;33m\u001b[0m\u001b[0m\n\u001b[1;32m-> 2077\u001b[1;33m                         \u001b[0mstb\u001b[0m \u001b[1;33m=\u001b[0m \u001b[0mvalue\u001b[0m\u001b[1;33m.\u001b[0m\u001b[0m_render_traceback_\u001b[0m\u001b[1;33m(\u001b[0m\u001b[1;33m)\u001b[0m\u001b[1;33m\u001b[0m\u001b[1;33m\u001b[0m\u001b[0m\n\u001b[0m\u001b[0;32m   2078\u001b[0m                     \u001b[1;32mexcept\u001b[0m \u001b[0mException\u001b[0m\u001b[1;33m:\u001b[0m\u001b[1;33m\u001b[0m\u001b[1;33m\u001b[0m\u001b[0m\n",
      "\u001b[1;31mAttributeError\u001b[0m: 'KeyboardInterrupt' object has no attribute '_render_traceback_'",
      "\nDuring handling of the above exception, another exception occurred:\n",
      "\u001b[1;31mTypeError\u001b[0m                                 Traceback (most recent call last)",
      "\u001b[1;32m~\\anaconda3\\envs\\Data_analytics_project\\lib\\site-packages\\IPython\\core\\interactiveshell.py\u001b[0m in \u001b[0;36mrun_ast_nodes\u001b[1;34m(self, nodelist, cell_name, interactivity, compiler, result)\u001b[0m\n\u001b[0;32m   3376\u001b[0m                         \u001b[0masy\u001b[0m \u001b[1;33m=\u001b[0m \u001b[0mcompare\u001b[0m\u001b[1;33m(\u001b[0m\u001b[0mcode\u001b[0m\u001b[1;33m)\u001b[0m\u001b[1;33m\u001b[0m\u001b[1;33m\u001b[0m\u001b[0m\n\u001b[1;32m-> 3377\u001b[1;33m                     \u001b[1;32mif\u001b[0m \u001b[1;33m(\u001b[0m\u001b[1;32mawait\u001b[0m \u001b[0mself\u001b[0m\u001b[1;33m.\u001b[0m\u001b[0mrun_code\u001b[0m\u001b[1;33m(\u001b[0m\u001b[0mcode\u001b[0m\u001b[1;33m,\u001b[0m \u001b[0mresult\u001b[0m\u001b[1;33m,\u001b[0m  \u001b[0masync_\u001b[0m\u001b[1;33m=\u001b[0m\u001b[0masy\u001b[0m\u001b[1;33m)\u001b[0m\u001b[1;33m)\u001b[0m\u001b[1;33m:\u001b[0m\u001b[1;33m\u001b[0m\u001b[1;33m\u001b[0m\u001b[0m\n\u001b[0m\u001b[0;32m   3378\u001b[0m                         \u001b[1;32mreturn\u001b[0m \u001b[1;32mTrue\u001b[0m\u001b[1;33m\u001b[0m\u001b[1;33m\u001b[0m\u001b[0m\n",
      "    \u001b[1;31m[... skipping hidden 1 frame]\u001b[0m\n",
      "\u001b[1;32m~\\anaconda3\\envs\\Data_analytics_project\\lib\\site-packages\\IPython\\core\\interactiveshell.py\u001b[0m in \u001b[0;36mshowtraceback\u001b[1;34m(self, exc_tuple, filename, tb_offset, exception_only, running_compiled_code)\u001b[0m\n\u001b[0;32m   2078\u001b[0m                     \u001b[1;32mexcept\u001b[0m \u001b[0mException\u001b[0m\u001b[1;33m:\u001b[0m\u001b[1;33m\u001b[0m\u001b[1;33m\u001b[0m\u001b[0m\n\u001b[1;32m-> 2079\u001b[1;33m                         stb = self.InteractiveTB.structured_traceback(etype,\n\u001b[0m\u001b[0;32m   2080\u001b[0m                                             value, tb, tb_offset=tb_offset)\n",
      "\u001b[1;32m~\\anaconda3\\envs\\Data_analytics_project\\lib\\site-packages\\IPython\\core\\ultratb.py\u001b[0m in \u001b[0;36mstructured_traceback\u001b[1;34m(self, etype, value, tb, tb_offset, number_of_lines_of_context)\u001b[0m\n\u001b[0;32m   1366\u001b[0m             \u001b[0mself\u001b[0m\u001b[1;33m.\u001b[0m\u001b[0mtb\u001b[0m \u001b[1;33m=\u001b[0m \u001b[0mtb\u001b[0m\u001b[1;33m\u001b[0m\u001b[1;33m\u001b[0m\u001b[0m\n\u001b[1;32m-> 1367\u001b[1;33m         return FormattedTB.structured_traceback(\n\u001b[0m\u001b[0;32m   1368\u001b[0m             self, etype, value, tb, tb_offset, number_of_lines_of_context)\n",
      "\u001b[1;32m~\\anaconda3\\envs\\Data_analytics_project\\lib\\site-packages\\IPython\\core\\ultratb.py\u001b[0m in \u001b[0;36mstructured_traceback\u001b[1;34m(self, etype, value, tb, tb_offset, number_of_lines_of_context)\u001b[0m\n\u001b[0;32m   1266\u001b[0m             \u001b[1;31m# Verbose modes need a full traceback\u001b[0m\u001b[1;33m\u001b[0m\u001b[1;33m\u001b[0m\u001b[1;33m\u001b[0m\u001b[0m\n\u001b[1;32m-> 1267\u001b[1;33m             return VerboseTB.structured_traceback(\n\u001b[0m\u001b[0;32m   1268\u001b[0m                 \u001b[0mself\u001b[0m\u001b[1;33m,\u001b[0m \u001b[0metype\u001b[0m\u001b[1;33m,\u001b[0m \u001b[0mvalue\u001b[0m\u001b[1;33m,\u001b[0m \u001b[0mtb\u001b[0m\u001b[1;33m,\u001b[0m \u001b[0mtb_offset\u001b[0m\u001b[1;33m,\u001b[0m \u001b[0mnumber_of_lines_of_context\u001b[0m\u001b[1;33m\u001b[0m\u001b[1;33m\u001b[0m\u001b[0m\n",
      "\u001b[1;32m~\\anaconda3\\envs\\Data_analytics_project\\lib\\site-packages\\IPython\\core\\ultratb.py\u001b[0m in \u001b[0;36mstructured_traceback\u001b[1;34m(self, etype, evalue, etb, tb_offset, number_of_lines_of_context)\u001b[0m\n\u001b[0;32m   1123\u001b[0m \u001b[1;33m\u001b[0m\u001b[0m\n\u001b[1;32m-> 1124\u001b[1;33m         formatted_exception = self.format_exception_as_a_whole(etype, evalue, etb, number_of_lines_of_context,\n\u001b[0m\u001b[0;32m   1125\u001b[0m                                                                tb_offset)\n",
      "\u001b[1;32m~\\anaconda3\\envs\\Data_analytics_project\\lib\\site-packages\\IPython\\core\\ultratb.py\u001b[0m in \u001b[0;36mformat_exception_as_a_whole\u001b[1;34m(self, etype, evalue, etb, number_of_lines_of_context, tb_offset)\u001b[0m\n\u001b[0;32m   1081\u001b[0m \u001b[1;33m\u001b[0m\u001b[0m\n\u001b[1;32m-> 1082\u001b[1;33m         \u001b[0mlast_unique\u001b[0m\u001b[1;33m,\u001b[0m \u001b[0mrecursion_repeat\u001b[0m \u001b[1;33m=\u001b[0m \u001b[0mfind_recursion\u001b[0m\u001b[1;33m(\u001b[0m\u001b[0morig_etype\u001b[0m\u001b[1;33m,\u001b[0m \u001b[0mevalue\u001b[0m\u001b[1;33m,\u001b[0m \u001b[0mrecords\u001b[0m\u001b[1;33m)\u001b[0m\u001b[1;33m\u001b[0m\u001b[1;33m\u001b[0m\u001b[0m\n\u001b[0m\u001b[0;32m   1083\u001b[0m \u001b[1;33m\u001b[0m\u001b[0m\n",
      "\u001b[1;32m~\\anaconda3\\envs\\Data_analytics_project\\lib\\site-packages\\IPython\\core\\ultratb.py\u001b[0m in \u001b[0;36mfind_recursion\u001b[1;34m(etype, value, records)\u001b[0m\n\u001b[0;32m    381\u001b[0m     \u001b[1;32mif\u001b[0m \u001b[1;32mnot\u001b[0m \u001b[0mis_recursion_error\u001b[0m\u001b[1;33m(\u001b[0m\u001b[0metype\u001b[0m\u001b[1;33m,\u001b[0m \u001b[0mvalue\u001b[0m\u001b[1;33m,\u001b[0m \u001b[0mrecords\u001b[0m\u001b[1;33m)\u001b[0m\u001b[1;33m:\u001b[0m\u001b[1;33m\u001b[0m\u001b[1;33m\u001b[0m\u001b[0m\n\u001b[1;32m--> 382\u001b[1;33m         \u001b[1;32mreturn\u001b[0m \u001b[0mlen\u001b[0m\u001b[1;33m(\u001b[0m\u001b[0mrecords\u001b[0m\u001b[1;33m)\u001b[0m\u001b[1;33m,\u001b[0m \u001b[1;36m0\u001b[0m\u001b[1;33m\u001b[0m\u001b[1;33m\u001b[0m\u001b[0m\n\u001b[0m\u001b[0;32m    383\u001b[0m \u001b[1;33m\u001b[0m\u001b[0m\n",
      "\u001b[1;31mTypeError\u001b[0m: object of type 'NoneType' has no len()",
      "\nDuring handling of the above exception, another exception occurred:\n",
      "\u001b[1;31mAttributeError\u001b[0m                            Traceback (most recent call last)",
      "\u001b[1;32m~\\anaconda3\\envs\\Data_analytics_project\\lib\\site-packages\\IPython\\core\\interactiveshell.py\u001b[0m in \u001b[0;36mshowtraceback\u001b[1;34m(self, exc_tuple, filename, tb_offset, exception_only, running_compiled_code)\u001b[0m\n\u001b[0;32m   2076\u001b[0m                         \u001b[1;31m# in the engines. This should return a list of strings.\u001b[0m\u001b[1;33m\u001b[0m\u001b[1;33m\u001b[0m\u001b[1;33m\u001b[0m\u001b[0m\n\u001b[1;32m-> 2077\u001b[1;33m                         \u001b[0mstb\u001b[0m \u001b[1;33m=\u001b[0m \u001b[0mvalue\u001b[0m\u001b[1;33m.\u001b[0m\u001b[0m_render_traceback_\u001b[0m\u001b[1;33m(\u001b[0m\u001b[1;33m)\u001b[0m\u001b[1;33m\u001b[0m\u001b[1;33m\u001b[0m\u001b[0m\n\u001b[0m\u001b[0;32m   2078\u001b[0m                     \u001b[1;32mexcept\u001b[0m \u001b[0mException\u001b[0m\u001b[1;33m:\u001b[0m\u001b[1;33m\u001b[0m\u001b[1;33m\u001b[0m\u001b[0m\n",
      "\u001b[1;31mAttributeError\u001b[0m: 'TypeError' object has no attribute '_render_traceback_'",
      "\nDuring handling of the above exception, another exception occurred:\n",
      "\u001b[1;31mTypeError\u001b[0m                                 Traceback (most recent call last)",
      "\u001b[1;32m~\\anaconda3\\envs\\Data_analytics_project\\lib\\site-packages\\IPython\\core\\async_helpers.py\u001b[0m in \u001b[0;36m_pseudo_sync_runner\u001b[1;34m(coro)\u001b[0m\n\u001b[0;32m     76\u001b[0m     \"\"\"\n\u001b[0;32m     77\u001b[0m     \u001b[1;32mtry\u001b[0m\u001b[1;33m:\u001b[0m\u001b[1;33m\u001b[0m\u001b[1;33m\u001b[0m\u001b[0m\n\u001b[1;32m---> 78\u001b[1;33m         \u001b[0mcoro\u001b[0m\u001b[1;33m.\u001b[0m\u001b[0msend\u001b[0m\u001b[1;33m(\u001b[0m\u001b[1;32mNone\u001b[0m\u001b[1;33m)\u001b[0m\u001b[1;33m\u001b[0m\u001b[1;33m\u001b[0m\u001b[0m\n\u001b[0m\u001b[0;32m     79\u001b[0m     \u001b[1;32mexcept\u001b[0m \u001b[0mStopIteration\u001b[0m \u001b[1;32mas\u001b[0m \u001b[0mexc\u001b[0m\u001b[1;33m:\u001b[0m\u001b[1;33m\u001b[0m\u001b[1;33m\u001b[0m\u001b[0m\n\u001b[0;32m     80\u001b[0m         \u001b[1;32mreturn\u001b[0m \u001b[0mexc\u001b[0m\u001b[1;33m.\u001b[0m\u001b[0mvalue\u001b[0m\u001b[1;33m\u001b[0m\u001b[1;33m\u001b[0m\u001b[0m\n",
      "\u001b[1;32m~\\anaconda3\\envs\\Data_analytics_project\\lib\\site-packages\\IPython\\core\\interactiveshell.py\u001b[0m in \u001b[0;36mrun_cell_async\u001b[1;34m(self, raw_cell, store_history, silent, shell_futures, transformed_cell, preprocessing_exc_tuple)\u001b[0m\n\u001b[0;32m   3183\u001b[0m                     \u001b[0minteractivity\u001b[0m \u001b[1;33m=\u001b[0m \u001b[1;34m'async'\u001b[0m\u001b[1;33m\u001b[0m\u001b[1;33m\u001b[0m\u001b[0m\n\u001b[0;32m   3184\u001b[0m \u001b[1;33m\u001b[0m\u001b[0m\n\u001b[1;32m-> 3185\u001b[1;33m                 has_raised = await self.run_ast_nodes(code_ast.body, cell_name,\n\u001b[0m\u001b[0;32m   3186\u001b[0m                        interactivity=interactivity, compiler=compiler, result=result)\n\u001b[0;32m   3187\u001b[0m \u001b[1;33m\u001b[0m\u001b[0m\n",
      "\u001b[1;32m~\\anaconda3\\envs\\Data_analytics_project\\lib\\site-packages\\IPython\\core\\interactiveshell.py\u001b[0m in \u001b[0;36mrun_ast_nodes\u001b[1;34m(self, nodelist, cell_name, interactivity, compiler, result)\u001b[0m\n\u001b[0;32m   3394\u001b[0m             \u001b[1;32mif\u001b[0m \u001b[0mresult\u001b[0m\u001b[1;33m:\u001b[0m\u001b[1;33m\u001b[0m\u001b[1;33m\u001b[0m\u001b[0m\n\u001b[0;32m   3395\u001b[0m                 \u001b[0mresult\u001b[0m\u001b[1;33m.\u001b[0m\u001b[0merror_before_exec\u001b[0m \u001b[1;33m=\u001b[0m \u001b[0msys\u001b[0m\u001b[1;33m.\u001b[0m\u001b[0mexc_info\u001b[0m\u001b[1;33m(\u001b[0m\u001b[1;33m)\u001b[0m\u001b[1;33m[\u001b[0m\u001b[1;36m1\u001b[0m\u001b[1;33m]\u001b[0m\u001b[1;33m\u001b[0m\u001b[1;33m\u001b[0m\u001b[0m\n\u001b[1;32m-> 3396\u001b[1;33m             \u001b[0mself\u001b[0m\u001b[1;33m.\u001b[0m\u001b[0mshowtraceback\u001b[0m\u001b[1;33m(\u001b[0m\u001b[1;33m)\u001b[0m\u001b[1;33m\u001b[0m\u001b[1;33m\u001b[0m\u001b[0m\n\u001b[0m\u001b[0;32m   3397\u001b[0m             \u001b[1;32mreturn\u001b[0m \u001b[1;32mTrue\u001b[0m\u001b[1;33m\u001b[0m\u001b[1;33m\u001b[0m\u001b[0m\n\u001b[0;32m   3398\u001b[0m \u001b[1;33m\u001b[0m\u001b[0m\n",
      "\u001b[1;32m~\\anaconda3\\envs\\Data_analytics_project\\lib\\site-packages\\IPython\\core\\interactiveshell.py\u001b[0m in \u001b[0;36mshowtraceback\u001b[1;34m(self, exc_tuple, filename, tb_offset, exception_only, running_compiled_code)\u001b[0m\n\u001b[0;32m   2077\u001b[0m                         \u001b[0mstb\u001b[0m \u001b[1;33m=\u001b[0m \u001b[0mvalue\u001b[0m\u001b[1;33m.\u001b[0m\u001b[0m_render_traceback_\u001b[0m\u001b[1;33m(\u001b[0m\u001b[1;33m)\u001b[0m\u001b[1;33m\u001b[0m\u001b[1;33m\u001b[0m\u001b[0m\n\u001b[0;32m   2078\u001b[0m                     \u001b[1;32mexcept\u001b[0m \u001b[0mException\u001b[0m\u001b[1;33m:\u001b[0m\u001b[1;33m\u001b[0m\u001b[1;33m\u001b[0m\u001b[0m\n\u001b[1;32m-> 2079\u001b[1;33m                         stb = self.InteractiveTB.structured_traceback(etype,\n\u001b[0m\u001b[0;32m   2080\u001b[0m                                             value, tb, tb_offset=tb_offset)\n\u001b[0;32m   2081\u001b[0m \u001b[1;33m\u001b[0m\u001b[0m\n",
      "\u001b[1;32m~\\anaconda3\\envs\\Data_analytics_project\\lib\\site-packages\\IPython\\core\\ultratb.py\u001b[0m in \u001b[0;36mstructured_traceback\u001b[1;34m(self, etype, value, tb, tb_offset, number_of_lines_of_context)\u001b[0m\n\u001b[0;32m   1365\u001b[0m         \u001b[1;32melse\u001b[0m\u001b[1;33m:\u001b[0m\u001b[1;33m\u001b[0m\u001b[1;33m\u001b[0m\u001b[0m\n\u001b[0;32m   1366\u001b[0m             \u001b[0mself\u001b[0m\u001b[1;33m.\u001b[0m\u001b[0mtb\u001b[0m \u001b[1;33m=\u001b[0m \u001b[0mtb\u001b[0m\u001b[1;33m\u001b[0m\u001b[1;33m\u001b[0m\u001b[0m\n\u001b[1;32m-> 1367\u001b[1;33m         return FormattedTB.structured_traceback(\n\u001b[0m\u001b[0;32m   1368\u001b[0m             self, etype, value, tb, tb_offset, number_of_lines_of_context)\n\u001b[0;32m   1369\u001b[0m \u001b[1;33m\u001b[0m\u001b[0m\n",
      "\u001b[1;32m~\\anaconda3\\envs\\Data_analytics_project\\lib\\site-packages\\IPython\\core\\ultratb.py\u001b[0m in \u001b[0;36mstructured_traceback\u001b[1;34m(self, etype, value, tb, tb_offset, number_of_lines_of_context)\u001b[0m\n\u001b[0;32m   1265\u001b[0m         \u001b[1;32mif\u001b[0m \u001b[0mmode\u001b[0m \u001b[1;32min\u001b[0m \u001b[0mself\u001b[0m\u001b[1;33m.\u001b[0m\u001b[0mverbose_modes\u001b[0m\u001b[1;33m:\u001b[0m\u001b[1;33m\u001b[0m\u001b[1;33m\u001b[0m\u001b[0m\n\u001b[0;32m   1266\u001b[0m             \u001b[1;31m# Verbose modes need a full traceback\u001b[0m\u001b[1;33m\u001b[0m\u001b[1;33m\u001b[0m\u001b[1;33m\u001b[0m\u001b[0m\n\u001b[1;32m-> 1267\u001b[1;33m             return VerboseTB.structured_traceback(\n\u001b[0m\u001b[0;32m   1268\u001b[0m                 \u001b[0mself\u001b[0m\u001b[1;33m,\u001b[0m \u001b[0metype\u001b[0m\u001b[1;33m,\u001b[0m \u001b[0mvalue\u001b[0m\u001b[1;33m,\u001b[0m \u001b[0mtb\u001b[0m\u001b[1;33m,\u001b[0m \u001b[0mtb_offset\u001b[0m\u001b[1;33m,\u001b[0m \u001b[0mnumber_of_lines_of_context\u001b[0m\u001b[1;33m\u001b[0m\u001b[1;33m\u001b[0m\u001b[0m\n\u001b[0;32m   1269\u001b[0m             )\n",
      "\u001b[1;32m~\\anaconda3\\envs\\Data_analytics_project\\lib\\site-packages\\IPython\\core\\ultratb.py\u001b[0m in \u001b[0;36mstructured_traceback\u001b[1;34m(self, etype, evalue, etb, tb_offset, number_of_lines_of_context)\u001b[0m\n\u001b[0;32m   1140\u001b[0m         \u001b[0mchained_exc_ids\u001b[0m \u001b[1;33m=\u001b[0m \u001b[0mset\u001b[0m\u001b[1;33m(\u001b[0m\u001b[1;33m)\u001b[0m\u001b[1;33m\u001b[0m\u001b[1;33m\u001b[0m\u001b[0m\n\u001b[0;32m   1141\u001b[0m         \u001b[1;32mwhile\u001b[0m \u001b[0mevalue\u001b[0m\u001b[1;33m:\u001b[0m\u001b[1;33m\u001b[0m\u001b[1;33m\u001b[0m\u001b[0m\n\u001b[1;32m-> 1142\u001b[1;33m             formatted_exceptions += self.format_exception_as_a_whole(etype, evalue, etb, lines_of_context,\n\u001b[0m\u001b[0;32m   1143\u001b[0m                                                                      chained_exceptions_tb_offset)\n\u001b[0;32m   1144\u001b[0m             \u001b[0mexception\u001b[0m \u001b[1;33m=\u001b[0m \u001b[0mself\u001b[0m\u001b[1;33m.\u001b[0m\u001b[0mget_parts_of_chained_exception\u001b[0m\u001b[1;33m(\u001b[0m\u001b[0mevalue\u001b[0m\u001b[1;33m)\u001b[0m\u001b[1;33m\u001b[0m\u001b[1;33m\u001b[0m\u001b[0m\n",
      "\u001b[1;32m~\\anaconda3\\envs\\Data_analytics_project\\lib\\site-packages\\IPython\\core\\ultratb.py\u001b[0m in \u001b[0;36mformat_exception_as_a_whole\u001b[1;34m(self, etype, evalue, etb, number_of_lines_of_context, tb_offset)\u001b[0m\n\u001b[0;32m   1080\u001b[0m \u001b[1;33m\u001b[0m\u001b[0m\n\u001b[0;32m   1081\u001b[0m \u001b[1;33m\u001b[0m\u001b[0m\n\u001b[1;32m-> 1082\u001b[1;33m         \u001b[0mlast_unique\u001b[0m\u001b[1;33m,\u001b[0m \u001b[0mrecursion_repeat\u001b[0m \u001b[1;33m=\u001b[0m \u001b[0mfind_recursion\u001b[0m\u001b[1;33m(\u001b[0m\u001b[0morig_etype\u001b[0m\u001b[1;33m,\u001b[0m \u001b[0mevalue\u001b[0m\u001b[1;33m,\u001b[0m \u001b[0mrecords\u001b[0m\u001b[1;33m)\u001b[0m\u001b[1;33m\u001b[0m\u001b[1;33m\u001b[0m\u001b[0m\n\u001b[0m\u001b[0;32m   1083\u001b[0m \u001b[1;33m\u001b[0m\u001b[0m\n\u001b[0;32m   1084\u001b[0m         \u001b[0mframes\u001b[0m \u001b[1;33m=\u001b[0m \u001b[0mself\u001b[0m\u001b[1;33m.\u001b[0m\u001b[0mformat_records\u001b[0m\u001b[1;33m(\u001b[0m\u001b[0mrecords\u001b[0m\u001b[1;33m,\u001b[0m \u001b[0mlast_unique\u001b[0m\u001b[1;33m,\u001b[0m \u001b[0mrecursion_repeat\u001b[0m\u001b[1;33m)\u001b[0m\u001b[1;33m\u001b[0m\u001b[1;33m\u001b[0m\u001b[0m\n",
      "\u001b[1;32m~\\anaconda3\\envs\\Data_analytics_project\\lib\\site-packages\\IPython\\core\\ultratb.py\u001b[0m in \u001b[0;36mfind_recursion\u001b[1;34m(etype, value, records)\u001b[0m\n\u001b[0;32m    380\u001b[0m     \u001b[1;31m# first frame (from in to out) that looks different.\u001b[0m\u001b[1;33m\u001b[0m\u001b[1;33m\u001b[0m\u001b[1;33m\u001b[0m\u001b[0m\n\u001b[0;32m    381\u001b[0m     \u001b[1;32mif\u001b[0m \u001b[1;32mnot\u001b[0m \u001b[0mis_recursion_error\u001b[0m\u001b[1;33m(\u001b[0m\u001b[0metype\u001b[0m\u001b[1;33m,\u001b[0m \u001b[0mvalue\u001b[0m\u001b[1;33m,\u001b[0m \u001b[0mrecords\u001b[0m\u001b[1;33m)\u001b[0m\u001b[1;33m:\u001b[0m\u001b[1;33m\u001b[0m\u001b[1;33m\u001b[0m\u001b[0m\n\u001b[1;32m--> 382\u001b[1;33m         \u001b[1;32mreturn\u001b[0m \u001b[0mlen\u001b[0m\u001b[1;33m(\u001b[0m\u001b[0mrecords\u001b[0m\u001b[1;33m)\u001b[0m\u001b[1;33m,\u001b[0m \u001b[1;36m0\u001b[0m\u001b[1;33m\u001b[0m\u001b[1;33m\u001b[0m\u001b[0m\n\u001b[0m\u001b[0;32m    383\u001b[0m \u001b[1;33m\u001b[0m\u001b[0m\n\u001b[0;32m    384\u001b[0m     \u001b[1;31m# Select filename, lineno, func_name to track frames with\u001b[0m\u001b[1;33m\u001b[0m\u001b[1;33m\u001b[0m\u001b[1;33m\u001b[0m\u001b[0m\n",
      "\u001b[1;31mTypeError\u001b[0m: object of type 'NoneType' has no len()"
     ]
    }
   ],
   "source": [
    "# Optimization rutine for the 2 minimization problems and for the closed form solution\n",
    "\n",
    "for d in dates_rebal: \n",
    "    \n",
    "    print(d)    \n",
    "    start_time = time.time()\n",
    "    \n",
    "    ret, expret = prepare_returns(real_returns,expected_returns,d)\n",
    "    \n",
    "    # we prepare inputs:\n",
    "    cov,mu,cons,bounds = configure_inputs_for_optimisation(train, ret, expret, d, 0.05,21)\n",
    "    \n",
    "    # define starting point\n",
    "    st_point_msr = st_point_msr_all_names.loc[st_point_msr_all_names.index.isin(ret.columns), 'starting_point'].T.values\n",
    "\n",
    "        \n",
    "    # run optimisation, MSR\n",
    "    res = minimize(MSR,\n",
    "                st_point_msr,\n",
    "                args = (cov, mu), \n",
    "                constraints = cons, \n",
    "                bounds = bounds, \n",
    "                method = 'SLSQP',\n",
    "                options={'ftol': 1e-16, 'disp': False})\n",
    "    print(\"MSR: \" + res.message)\n",
    "    # store results\n",
    "    i = 0\n",
    "    for col in ret.columns:\n",
    "        ptf['msr_w_cons'].loc[d, col] = res.x[i]\n",
    "        i += 1\n",
    "    \n",
    "    print(\"--- %s seconds ---\" % (time.time() - start_time))"
   ]
  },
  {
   "cell_type": "code",
   "execution_count": null,
   "id": "0c921a84",
   "metadata": {},
   "outputs": [],
   "source": [
    "def clc_str_return(w, ret, str_name):\n",
    "    w_i = np.zeros(len(ret.columns.tolist()))\n",
    "    ret_str = pd.DataFrame(index = ret.index, columns=[str_name])\n",
    "    for i in ret.index:\n",
    "        ret_str.loc[i, str_name] = w_i@ret.loc[i,:]\n",
    "        #ret_str.loc[i, str_name] = np.sum(w_i)\n",
    "        if i in w.index:\n",
    "            w_i = w.loc[i,:]\n",
    "#             if str_name == 'minvar_w':\n",
    "#                 negs = w_i.lt(0).sum().sum() # The heuristical solution in closed form\n",
    "#                 post = w_i.gt(0).sum().sum()\n",
    "#                 w_i[w_i>0] = w_i[w_i>0]/post\n",
    "#                 w_i[w_i<0] = w_i[w_i<0]/negs\n",
    "#                 delta_0 = w_i.sum()\n",
    "#                 if delta_0>0.01:\n",
    "#                     w_i=0\n",
    "#             if delta_0 > 0:\n",
    "#                 w_i[w_i<0] = w_i[w_i<0]*(1+delta_0)      \n",
    "#             else:\n",
    "#                 w_i[w_i>0] = w_i[w_i>0]*(1-delta_0)\n",
    "    \n",
    "    return ret_str"
   ]
  },
  {
   "cell_type": "code",
   "execution_count": null,
   "id": "fa5b4635",
   "metadata": {},
   "outputs": [],
   "source": [
    "ret_str = clc_str_return(ptf['msr_w_cons'], ret, 'msr_w_cons')"
   ]
  },
  {
   "cell_type": "code",
   "execution_count": null,
   "id": "729666d7",
   "metadata": {},
   "outputs": [],
   "source": [
    "rep_ = qs.reports.html(ret_str['msr_w_cons'])"
   ]
  },
  {
   "cell_type": "markdown",
   "id": "57fbdb2e",
   "metadata": {},
   "source": [
    "## Benchmark Seb's code"
   ]
  },
  {
   "cell_type": "code",
   "execution_count": null,
   "id": "c6b0cc94",
   "metadata": {},
   "outputs": [],
   "source": [
    "# define a function to calculate the valued weighted average\n",
    "def weighted_avg(df, values, weights):\n",
    "    d = df[values]\n",
    "    w = df[weights]\n",
    "    return (d * w).sum() / w.sum()"
   ]
  },
  {
   "cell_type": "code",
   "execution_count": null,
   "id": "ee50ea46",
   "metadata": {},
   "outputs": [],
   "source": [
    "df_plot = (train.groupby(['date']).apply(weighted_avg, 'excess_return', 'weightage_pct'))\n",
    "df_plot = df_plot.loc[dates_rebal[0]:dates_rebal[-1]]\n",
    "df_plot.iloc[0] = df_plot.iloc[0] * 100"
   ]
  },
  {
   "cell_type": "code",
   "execution_count": null,
   "id": "46ea6385",
   "metadata": {},
   "outputs": [],
   "source": [
    "df_plot # Why is first value so high ?"
   ]
  },
  {
   "cell_type": "code",
   "execution_count": null,
   "id": "ae45915b",
   "metadata": {
    "scrolled": true
   },
   "outputs": [],
   "source": [
    "ret_str['msr_w_cons']*100 # Not sure why first 2 zeros ?"
   ]
  },
  {
   "cell_type": "markdown",
   "id": "be6b6045",
   "metadata": {},
   "source": [
    "## Final Report to Beat"
   ]
  },
  {
   "cell_type": "code",
   "execution_count": null,
   "id": "e1289ff9",
   "metadata": {},
   "outputs": [],
   "source": [
    "# rep_ = qs.reports.html(ret_str['msr_w_cons'][2:],df_plot[1:]) "
   ]
  }
 ],
 "metadata": {
  "kernelspec": {
   "display_name": "Python 3 (ipykernel)",
   "language": "python",
   "name": "python3"
  },
  "language_info": {
   "codemirror_mode": {
    "name": "ipython",
    "version": 3
   },
   "file_extension": ".py",
   "mimetype": "text/x-python",
   "name": "python",
   "nbconvert_exporter": "python",
   "pygments_lexer": "ipython3",
   "version": "3.8.5"
  }
 },
 "nbformat": 4,
 "nbformat_minor": 5
}
